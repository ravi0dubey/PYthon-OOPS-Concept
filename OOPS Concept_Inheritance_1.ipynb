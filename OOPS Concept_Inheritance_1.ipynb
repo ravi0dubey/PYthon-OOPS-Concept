{
 "cells": [
  {
   "cell_type": "code",
   "execution_count": 34,
   "id": "762a745b",
   "metadata": {},
   "outputs": [],
   "source": [
    "class A:\n",
    "    def __init__(self):\n",
    "        print('A')\n",
    "        super().__init__()\n",
    "\n",
    "class B(A):\n",
    "    def __init__(self):\n",
    "        print('B')\n",
    "        super().__init__()\n",
    "\n",
    "class X:\n",
    "    def __init__(self):\n",
    "        print('X')\n",
    "        super().__init__()\n",
    "\n",
    "class Forward(B, X):\n",
    "    def __init__(self):\n",
    "        print('Forward')\n",
    "        super().__init__()\n",
    "\n",
    "class Backward(X, B):\n",
    "    def __init__(self):\n",
    "        print('Backward')\n",
    "        super().__init__()"
   ]
  },
  {
   "cell_type": "code",
   "execution_count": 35,
   "id": "26322b49",
   "metadata": {},
   "outputs": [
    {
     "name": "stdout",
     "output_type": "stream",
     "text": [
      "Forward\n",
      "B\n",
      "A\n",
      "X\n"
     ]
    }
   ],
   "source": [
    "f = Forward()"
   ]
  },
  {
   "cell_type": "code",
   "execution_count": 36,
   "id": "eef9302f",
   "metadata": {},
   "outputs": [
    {
     "name": "stdout",
     "output_type": "stream",
     "text": [
      "Backward\n",
      "X\n",
      "B\n",
      "A\n"
     ]
    }
   ],
   "source": [
    "b = Backward()"
   ]
  },
  {
   "cell_type": "code",
   "execution_count": 122,
   "id": "4d9b8e78",
   "metadata": {},
   "outputs": [],
   "source": [
    "class Rectangle:\n",
    "    def __init__(self, length, width, **kwargs):\n",
    "        self.length = length\n",
    "        self.width = width\n",
    "        super().__init__(**kwargs)\n",
    "\n",
    "    def area(self):\n",
    "        return self.length * self.width\n",
    "\n",
    "    def perimeter(self):\n",
    "        return 2 * self.length + 2 * self.width\n",
    "\n",
    "class Square(Rectangle):\n",
    "    def __init__(self, diameter,length,width, **kwargs):\n",
    "#         super().__init__(length=length, width=width, **kwargs)\n",
    "        self.diameter = diameter\n",
    "        super().__init__(length, width, **kwargs)\n",
    "    \n",
    "\n",
    "class Triangle:\n",
    "    def __init__(self, base, height, **kwargs):\n",
    "        self.base = base\n",
    "        self.height = height\n",
    "        super().__init__(**kwargs)\n",
    "\n",
    "    def tri_area(self):\n",
    "        return 0.5 * self.base * self.height\n",
    "\n",
    "class RightPyramid(Square, Triangle):\n",
    "    def __init__(self, base, slant_height, **kwargs):\n",
    "        self.base = base\n",
    "        self.slant_height = slant_height\n",
    "        super().__init__(base=base,height=base,length=base,width=base,diameter=base, **kwargs)\n",
    "#         super().__init__(base,base,base,base,base, **kwargs)\n",
    "#         kwargs[\"height\"] = slant_height\n",
    "#         kwargs[\"length\"] = base\n",
    "#         kwargs[\"width\"] = base\n",
    "#         kwargs[\"diameter\"]= base\n",
    "#         super().__init__(base=base, **kwargs)\n",
    "\n",
    "\n",
    "    def area(self):\n",
    "        base_area = super().area()\n",
    "        perimeter = super().perimeter()\n",
    "        return 0.5 * perimeter * self.slant_height + base_area\n",
    "\n",
    "    def area_2(self):\n",
    "        base_area = super().area()\n",
    "        triangle_area = super().tri_area()\n",
    "        return triangle_area * 4 + base_area"
   ]
  },
  {
   "cell_type": "code",
   "execution_count": 123,
   "id": "26ca84e1",
   "metadata": {},
   "outputs": [],
   "source": [
    "rp= RightPyramid(9,10,)"
   ]
  },
  {
   "cell_type": "code",
   "execution_count": 71,
   "id": "10080170",
   "metadata": {},
   "outputs": [],
   "source": [
    "r1 = Rectangle(2,3)"
   ]
  },
  {
   "cell_type": "code",
   "execution_count": 41,
   "id": "eccd057f",
   "metadata": {},
   "outputs": [
    {
     "data": {
      "text/plain": [
       "2"
      ]
     },
     "execution_count": 41,
     "metadata": {},
     "output_type": "execute_result"
    }
   ],
   "source": [
    "r1.length\n"
   ]
  },
  {
   "cell_type": "code",
   "execution_count": 42,
   "id": "09796173",
   "metadata": {},
   "outputs": [
    {
     "data": {
      "text/plain": [
       "3"
      ]
     },
     "execution_count": 42,
     "metadata": {},
     "output_type": "execute_result"
    }
   ],
   "source": [
    "r1.width"
   ]
  },
  {
   "cell_type": "code",
   "execution_count": 43,
   "id": "b4c7b9a9",
   "metadata": {},
   "outputs": [
    {
     "data": {
      "text/plain": [
       "6"
      ]
     },
     "execution_count": 43,
     "metadata": {},
     "output_type": "execute_result"
    }
   ],
   "source": [
    "r1.area()"
   ]
  },
  {
   "cell_type": "code",
   "execution_count": 44,
   "id": "963ff221",
   "metadata": {},
   "outputs": [
    {
     "data": {
      "text/plain": [
       "10"
      ]
     },
     "execution_count": 44,
     "metadata": {},
     "output_type": "execute_result"
    }
   ],
   "source": [
    "r1.perimeter()"
   ]
  },
  {
   "cell_type": "code",
   "execution_count": 84,
   "id": "b8284cae",
   "metadata": {},
   "outputs": [],
   "source": [
    "s1 = Square(6,7,8,)"
   ]
  },
  {
   "cell_type": "code",
   "execution_count": 85,
   "id": "b537976c",
   "metadata": {},
   "outputs": [
    {
     "data": {
      "text/plain": [
       "7"
      ]
     },
     "execution_count": 85,
     "metadata": {},
     "output_type": "execute_result"
    }
   ],
   "source": [
    "s1.length"
   ]
  },
  {
   "cell_type": "code",
   "execution_count": 86,
   "id": "7c894843",
   "metadata": {},
   "outputs": [
    {
     "data": {
      "text/plain": [
       "8"
      ]
     },
     "execution_count": 86,
     "metadata": {},
     "output_type": "execute_result"
    }
   ],
   "source": [
    "s1.width"
   ]
  },
  {
   "cell_type": "code",
   "execution_count": 87,
   "id": "ef4a1334",
   "metadata": {},
   "outputs": [
    {
     "data": {
      "text/plain": [
       "56"
      ]
     },
     "execution_count": 87,
     "metadata": {},
     "output_type": "execute_result"
    }
   ],
   "source": [
    "s1.area()"
   ]
  },
  {
   "cell_type": "code",
   "execution_count": 88,
   "id": "e777c15b",
   "metadata": {},
   "outputs": [
    {
     "data": {
      "text/plain": [
       "30"
      ]
     },
     "execution_count": 88,
     "metadata": {},
     "output_type": "execute_result"
    }
   ],
   "source": [
    "s1.perimeter()"
   ]
  },
  {
   "cell_type": "code",
   "execution_count": 89,
   "id": "3e79ba89",
   "metadata": {},
   "outputs": [
    {
     "data": {
      "text/plain": [
       "6"
      ]
     },
     "execution_count": 89,
     "metadata": {},
     "output_type": "execute_result"
    }
   ],
   "source": [
    "s1.diameter"
   ]
  },
  {
   "cell_type": "code",
   "execution_count": 110,
   "id": "a9cf7d16",
   "metadata": {},
   "outputs": [
    {
     "data": {
      "text/plain": [
       "9"
      ]
     },
     "execution_count": 110,
     "metadata": {},
     "output_type": "execute_result"
    }
   ],
   "source": [
    "rp.diameter"
   ]
  },
  {
   "cell_type": "code",
   "execution_count": 111,
   "id": "985ed45b",
   "metadata": {},
   "outputs": [
    {
     "data": {
      "text/plain": [
       "9"
      ]
     },
     "execution_count": 111,
     "metadata": {},
     "output_type": "execute_result"
    }
   ],
   "source": [
    "rp.base"
   ]
  },
  {
   "cell_type": "code",
   "execution_count": 112,
   "id": "d24190df",
   "metadata": {},
   "outputs": [
    {
     "data": {
      "text/plain": [
       "9"
      ]
     },
     "execution_count": 112,
     "metadata": {},
     "output_type": "execute_result"
    }
   ],
   "source": [
    "rp.length"
   ]
  },
  {
   "cell_type": "code",
   "execution_count": 113,
   "id": "76d26535",
   "metadata": {},
   "outputs": [
    {
     "data": {
      "text/plain": [
       "9"
      ]
     },
     "execution_count": 113,
     "metadata": {},
     "output_type": "execute_result"
    }
   ],
   "source": [
    "rp.width"
   ]
  },
  {
   "cell_type": "code",
   "execution_count": 135,
   "id": "2609934e",
   "metadata": {},
   "outputs": [],
   "source": [
    "class Rectangle:\n",
    "    def __init__(self, length, width,**kwargs):\n",
    "        self.length = length\n",
    "        self.width = width\n",
    "        super().__init__(**kwargs)\n",
    "\n",
    "    def area(self):\n",
    "        return self.length * self.width\n",
    "\n",
    "    def perimeter(self):\n",
    "        return 2 * self.length + 2 * self.width\n",
    "\n",
    "class Square(Rectangle):\n",
    "    def __init__(self, diameter,length,width,**kwargs):\n",
    "        self.diameter = diameter\n",
    "        super().__init__(length, width,**kwargs)\n",
    "    \n",
    "\n",
    "class Triangle:\n",
    "    def __init__(self, base, height,**kwargs):\n",
    "        self.base = base\n",
    "        self.height = height\n",
    "        super().__init__(**kwargs)\n",
    "\n",
    "    def tri_area(self):\n",
    "        return 0.5 * self.base * self.height\n",
    "\n",
    "class RightPyramid(Square, Triangle):\n",
    "    def __init__(self, base, slant_height,**kwargs):\n",
    "        self.base = base\n",
    "        self.slant_height = slant_height\n",
    "        super().__init__(base=base,height=base,length=base,width=base,diameter=base,**kwargs)\n",
    "\n",
    "\n",
    "    def area(self):\n",
    "        base_area = super().area()\n",
    "        perimeter = super().perimeter()\n",
    "        return 0.5 * perimeter * self.slant_height + base_area\n",
    "\n",
    "    def area_2(self):\n",
    "        base_area = super().area()\n",
    "        triangle_area = super().tri_area()\n",
    "        return triangle_area * 4 + base_area"
   ]
  },
  {
   "cell_type": "code",
   "execution_count": 136,
   "id": "c1c78293",
   "metadata": {},
   "outputs": [],
   "source": [
    "rp4= RightPyramid(2,4)"
   ]
  },
  {
   "cell_type": "markdown",
   "id": "c6a0474d",
   "metadata": {},
   "source": [
    "# Overloading"
   ]
  },
  {
   "cell_type": "code",
   "execution_count": 203,
   "id": "16bae27a",
   "metadata": {},
   "outputs": [],
   "source": [
    "#__mul is  default function of python\n",
    "\n",
    "\n",
    "class multiplynumeric():\n",
    "    def __init__(self,a):\n",
    "        self.a = a\n",
    "    \n",
    "    def __mul__(self, other):\n",
    "        return self.a - other.a"
   ]
  },
  {
   "cell_type": "code",
   "execution_count": 208,
   "id": "c1c85751",
   "metadata": {},
   "outputs": [],
   "source": [
    "mul1 = multiplynumeric(9)"
   ]
  },
  {
   "cell_type": "code",
   "execution_count": 196,
   "id": "44f42162",
   "metadata": {},
   "outputs": [
    {
     "data": {
      "text/plain": [
       "9"
      ]
     },
     "execution_count": 196,
     "metadata": {},
     "output_type": "execute_result"
    }
   ],
   "source": [
    "mul1.a"
   ]
  },
  {
   "cell_type": "code",
   "execution_count": 205,
   "id": "3ea3c857",
   "metadata": {},
   "outputs": [],
   "source": [
    "mul2 = multiplynumeric(5)"
   ]
  },
  {
   "cell_type": "code",
   "execution_count": 200,
   "id": "c06b9def",
   "metadata": {},
   "outputs": [
    {
     "data": {
      "text/plain": [
       "5"
      ]
     },
     "execution_count": 200,
     "metadata": {},
     "output_type": "execute_result"
    }
   ],
   "source": [
    "mul2.a"
   ]
  },
  {
   "cell_type": "code",
   "execution_count": 206,
   "id": "1cddcb93",
   "metadata": {},
   "outputs": [
    {
     "data": {
      "text/plain": [
       "45"
      ]
     },
     "execution_count": 206,
     "metadata": {},
     "output_type": "execute_result"
    }
   ],
   "source": [
    "mul1.a * mul2.a"
   ]
  },
  {
   "cell_type": "code",
   "execution_count": 244,
   "id": "06133e08",
   "metadata": {},
   "outputs": [
    {
     "data": {
      "text/plain": [
       "4"
      ]
     },
     "execution_count": 244,
     "metadata": {},
     "output_type": "execute_result"
    }
   ],
   "source": [
    "mul1 * mul2 #multiplication done directly with object"
   ]
  },
  {
   "cell_type": "markdown",
   "id": "0dbd97c9",
   "metadata": {},
   "source": [
    "# Operator Overloading"
   ]
  },
  {
   "cell_type": "code",
   "execution_count": 252,
   "id": "7fdc6da6",
   "metadata": {},
   "outputs": [],
   "source": [
    "#although we have __add__ function within the class we have changed the operation within the class \n",
    "#from addition  to division\n",
    "class addnumeric():\n",
    "    def __init__(self,a):\n",
    "        self.a = a\n",
    "    \n",
    "    def __add__(self, other):\n",
    "        return self.a / other.a"
   ]
  },
  {
   "cell_type": "code",
   "execution_count": 253,
   "id": "703d31a1",
   "metadata": {},
   "outputs": [],
   "source": [
    "add1 = addnumeric(4)"
   ]
  },
  {
   "cell_type": "code",
   "execution_count": 254,
   "id": "34050976",
   "metadata": {},
   "outputs": [],
   "source": [
    "add2 = addnumeric(1.5)"
   ]
  },
  {
   "cell_type": "code",
   "execution_count": 255,
   "id": "6e523fa2",
   "metadata": {},
   "outputs": [
    {
     "data": {
      "text/plain": [
       "2.6666666666666665"
      ]
     },
     "execution_count": 255,
     "metadata": {},
     "output_type": "execute_result"
    }
   ],
   "source": [
    "add1 + add2  #divided value comes instead of addition"
   ]
  },
  {
   "cell_type": "code",
   "execution_count": 245,
   "id": "ba330c99",
   "metadata": {},
   "outputs": [],
   "source": [
    "#although we have __sub__ function within the class we have changed the operation within the class \n",
    "#from substraction to multiplication\n",
    "class subnumeric():\n",
    "    def __init__(self,a):\n",
    "        self.a = a\n",
    "    \n",
    "    def __sub__(self, other):\n",
    "        return self.a + other.a"
   ]
  },
  {
   "cell_type": "code",
   "execution_count": 239,
   "id": "da888aed",
   "metadata": {},
   "outputs": [],
   "source": [
    "a1 = subnumeric(5)"
   ]
  },
  {
   "cell_type": "code",
   "execution_count": 240,
   "id": "1f644c11",
   "metadata": {},
   "outputs": [],
   "source": [
    "a2 = subnumeric(2)"
   ]
  },
  {
   "cell_type": "code",
   "execution_count": 243,
   "id": "11880513",
   "metadata": {},
   "outputs": [
    {
     "data": {
      "text/plain": [
       "7"
      ]
     },
     "execution_count": 243,
     "metadata": {},
     "output_type": "execute_result"
    }
   ],
   "source": [
    "a1 - a2 \n",
    "#Although i am giving a1 - a2 but subnumeric has default function of  adding two objects \n",
    "#hence summation of two variable is returned"
   ]
  },
  {
   "cell_type": "code",
   "execution_count": 256,
   "id": "12aeabf0",
   "metadata": {},
   "outputs": [],
   "source": [
    "def add1(a,b):\n",
    "    return a + b"
   ]
  },
  {
   "cell_type": "code",
   "execution_count": 1,
   "id": "7064a91b",
   "metadata": {},
   "outputs": [],
   "source": [
    "class a:\n",
    "    def msg(self):\n",
    "        print(\"this is a msg from class A\")\n",
    "\n",
    "class b:\n",
    "    def msg(self):\n",
    "        print(\"this is a msg from class b\")\n",
    "    "
   ]
  },
  {
   "cell_type": "code",
   "execution_count": 2,
   "id": "fb4d0d34",
   "metadata": {},
   "outputs": [],
   "source": [
    "def test(mm):\n",
    "    mm.msg()\n",
    "    "
   ]
  },
  {
   "cell_type": "code",
   "execution_count": 3,
   "id": "3a529d12",
   "metadata": {},
   "outputs": [],
   "source": [
    "a1 = a()"
   ]
  },
  {
   "cell_type": "code",
   "execution_count": 4,
   "id": "c4ce9770",
   "metadata": {},
   "outputs": [],
   "source": [
    "b1 =b()"
   ]
  },
  {
   "cell_type": "code",
   "execution_count": 6,
   "id": "ac2d8249",
   "metadata": {},
   "outputs": [
    {
     "name": "stdout",
     "output_type": "stream",
     "text": [
      "this is a msg from class A\n"
     ]
    }
   ],
   "source": [
    "test(a1)"
   ]
  },
  {
   "cell_type": "code",
   "execution_count": 8,
   "id": "c8eebb1f",
   "metadata": {},
   "outputs": [
    {
     "name": "stdout",
     "output_type": "stream",
     "text": [
      "this is a msg from class b\n"
     ]
    }
   ],
   "source": [
    "test(b1)"
   ]
  },
  {
   "cell_type": "code",
   "execution_count": null,
   "id": "53db86e8",
   "metadata": {},
   "outputs": [],
   "source": []
  },
  {
   "cell_type": "code",
   "execution_count": null,
   "id": "be0ff062",
   "metadata": {},
   "outputs": [],
   "source": []
  }
 ],
 "metadata": {
  "kernelspec": {
   "display_name": "Python 3 (ipykernel)",
   "language": "python",
   "name": "python3"
  },
  "language_info": {
   "codemirror_mode": {
    "name": "ipython",
    "version": 3
   },
   "file_extension": ".py",
   "mimetype": "text/x-python",
   "name": "python",
   "nbconvert_exporter": "python",
   "pygments_lexer": "ipython3",
   "version": "3.9.7"
  }
 },
 "nbformat": 4,
 "nbformat_minor": 5
}
