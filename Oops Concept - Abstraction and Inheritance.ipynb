{
 "cells": [
  {
   "cell_type": "code",
   "execution_count": 72,
   "id": "badd974c",
   "metadata": {},
   "outputs": [],
   "source": [
    "class car():\n",
    "    def __init__(self,mfg,body,mileage,seat): #Inbuilt function of any class which starts and end with 2 underscore\n",
    "        if mileage == ' ':\n",
    "            self.manufacture = 2021\n",
    "        else:\n",
    "            self.manufacture = mfg\n",
    "        self.body = \"steel\"\n",
    "        self.mileage = 15\n",
    "        self.seat = 5   \n",
    "        \n",
    "    def __str__(self): #This is a inbuilt function where we can write the purpose of the function\n",
    "        return \"This Class is of Car\"\n",
    "    \n",
    "    def age_of_car(self,current_year):\n",
    "        return current_year - self.manufacture"
   ]
  },
  {
   "cell_type": "code",
   "execution_count": 73,
   "id": "0c4c0f03",
   "metadata": {},
   "outputs": [],
   "source": [
    "nano = car(2018,'' ,'' ,'')"
   ]
  },
  {
   "cell_type": "code",
   "execution_count": 19,
   "id": "5217ad18",
   "metadata": {},
   "outputs": [
    {
     "name": "stdout",
     "output_type": "stream",
     "text": [
      "nano.mileage :15\n"
     ]
    }
   ],
   "source": [
    "print(f\"nano.mileage :{nano.mileage}\")"
   ]
  },
  {
   "cell_type": "code",
   "execution_count": 39,
   "id": "af6e90a7",
   "metadata": {},
   "outputs": [
    {
     "data": {
      "text/plain": [
       "2018"
      ]
     },
     "execution_count": 39,
     "metadata": {},
     "output_type": "execute_result"
    }
   ],
   "source": [
    "nano.manufacture"
   ]
  },
  {
   "cell_type": "code",
   "execution_count": 20,
   "id": "8fa0e615",
   "metadata": {},
   "outputs": [
    {
     "name": "stdout",
     "output_type": "stream",
     "text": [
      "car.seat: 5\n"
     ]
    }
   ],
   "source": [
    "print(f\"car.seat: {nano.seat}\")"
   ]
  },
  {
   "cell_type": "code",
   "execution_count": 69,
   "id": "0d55e5a7",
   "metadata": {},
   "outputs": [],
   "source": [
    "hyundai = car(2020, '','','')\n",
    "hyundai.mileage = 21"
   ]
  },
  {
   "cell_type": "code",
   "execution_count": 41,
   "id": "28a039d6",
   "metadata": {},
   "outputs": [
    {
     "name": "stdout",
     "output_type": "stream",
     "text": [
      "hyundai.mileage: 21\n"
     ]
    }
   ],
   "source": [
    "print(f\"hyundai.mileage: {hyundai.mileage}\")"
   ]
  },
  {
   "cell_type": "code",
   "execution_count": 66,
   "id": "4765c750",
   "metadata": {},
   "outputs": [
    {
     "data": {
      "text/plain": [
       "2"
      ]
     },
     "execution_count": 66,
     "metadata": {},
     "output_type": "execute_result"
    }
   ],
   "source": [
    "hyundai.age_of_car(2022)"
   ]
  },
  {
   "cell_type": "code",
   "execution_count": 70,
   "id": "537e1d8c",
   "metadata": {},
   "outputs": [
    {
     "name": "stdout",
     "output_type": "stream",
     "text": [
      "This Class is of Car\n"
     ]
    }
   ],
   "source": [
    "print(hyundai)"
   ]
  },
  {
   "cell_type": "code",
   "execution_count": 140,
   "id": "87e61e68",
   "metadata": {},
   "outputs": [],
   "source": [
    "class student():\n",
    "    def __init__(self,name,year_of_birth,sex,place,*hobbies):\n",
    "        self.hobbies_list =[]\n",
    "        self.name = name\n",
    "        try:\n",
    "            self.year_of_birth = year_of_birth\n",
    "        except Excection as e:\n",
    "            print(\"Incorrect year of Birth\",e)\n",
    "    \n",
    "        self.sex = sex\n",
    "        self.place = place\n",
    "        for i in hobbies:\n",
    "            self.hobbies_list.append(i)\n",
    "        \n",
    "    def __str__(self):\n",
    "        return \"This class is used to define student class\"\n",
    "\n",
    "    def age(self,current_year):\n",
    "        try:\n",
    "            return current_year - self.year_of_birth\n",
    "        except Exception as e:\n",
    "            print(\"Entered year of Birth is not numeric\",e)\n",
    "    \n",
    "    def print_name(self):\n",
    "        if type(self.name)== list:\n",
    "            for i in range(len(self.name)):\n",
    "                print(self.name[i])\n",
    "        else:\n",
    "             return self.name\n",
    "    def hobbies_print(self):\n",
    "        print(self.hobbies_list)"
   ]
  },
  {
   "cell_type": "code",
   "execution_count": 141,
   "id": "c442ef6f",
   "metadata": {},
   "outputs": [],
   "source": [
    "stud1=student(\"Ravi\",\"abcd\",\"Male\",\"Noida\",[\"TV\",\"Cricket\",\"Music\"])\n",
    "stud2=student(\"Astha\",1986,\"FeMale\",\"Bengaluru\",[\"Singing\",\"Dancing\"])\n",
    "stud3=student(\"Illisha\",2015,\"FeMale\",\"Pune\",[\"Dancing\"])\n",
    "stud4=student(\"Lika\",2019,\"FeMale\",\"Patna\",[\"Singing\"])\n",
    "stud5=student([\"Jaanu\",\"Chumpu\",\"Dolu\",\"Liku\"], [1983,1988,2015,2019],[\"Male\",\"Female\",\"Female\",\"Female\"],[\"Canada\",\"Patna\",\"Paris\",\"USA\"],\"\")"
   ]
  },
  {
   "cell_type": "code",
   "execution_count": 89,
   "id": "8c087178",
   "metadata": {},
   "outputs": [
    {
     "data": {
      "text/plain": [
       "36"
      ]
     },
     "execution_count": 89,
     "metadata": {},
     "output_type": "execute_result"
    }
   ],
   "source": [
    "stud2.age(2022)"
   ]
  },
  {
   "cell_type": "code",
   "execution_count": 105,
   "id": "b7ffce74",
   "metadata": {},
   "outputs": [
    {
     "data": {
      "text/plain": [
       "7"
      ]
     },
     "execution_count": 105,
     "metadata": {},
     "output_type": "execute_result"
    }
   ],
   "source": [
    "stud3.age(2022)"
   ]
  },
  {
   "cell_type": "code",
   "execution_count": 96,
   "id": "15aa78ec",
   "metadata": {},
   "outputs": [
    {
     "name": "stdout",
     "output_type": "stream",
     "text": [
      "This class is used to define student class\n"
     ]
    }
   ],
   "source": [
    "print(stud4)"
   ]
  },
  {
   "cell_type": "code",
   "execution_count": 104,
   "id": "4c22ec28",
   "metadata": {},
   "outputs": [
    {
     "name": "stdout",
     "output_type": "stream",
     "text": [
      "Entered year of Birth is not numeric unsupported operand type(s) for -: 'int' and 'str'\n"
     ]
    }
   ],
   "source": [
    "stud1.age(2022)"
   ]
  },
  {
   "cell_type": "code",
   "execution_count": 107,
   "id": "9dfd8360",
   "metadata": {},
   "outputs": [
    {
     "data": {
      "text/plain": [
       "3"
      ]
     },
     "execution_count": 107,
     "metadata": {},
     "output_type": "execute_result"
    }
   ],
   "source": [
    "stud4.age(2022)"
   ]
  },
  {
   "cell_type": "code",
   "execution_count": 115,
   "id": "7b659fe1",
   "metadata": {},
   "outputs": [
    {
     "name": "stdout",
     "output_type": "stream",
     "text": [
      "This class is used to define student class\n"
     ]
    }
   ],
   "source": [
    "print(stud5)"
   ]
  },
  {
   "cell_type": "code",
   "execution_count": 116,
   "id": "d52464ee",
   "metadata": {},
   "outputs": [],
   "source": [
    "stud1.name= \"RaviRanjan\""
   ]
  },
  {
   "cell_type": "code",
   "execution_count": 118,
   "id": "fe1cb4c9",
   "metadata": {},
   "outputs": [
    {
     "data": {
      "text/plain": [
       "'RaviRanjan'"
      ]
     },
     "execution_count": 118,
     "metadata": {},
     "output_type": "execute_result"
    }
   ],
   "source": [
    "stud1.name"
   ]
  },
  {
   "cell_type": "code",
   "execution_count": 119,
   "id": "76c4d344",
   "metadata": {},
   "outputs": [
    {
     "data": {
      "text/plain": [
       "['Jaanu', 'Chumpu', 'Dolu', 'Liku']"
      ]
     },
     "execution_count": 119,
     "metadata": {},
     "output_type": "execute_result"
    }
   ],
   "source": [
    "stud5.name"
   ]
  },
  {
   "cell_type": "code",
   "execution_count": 128,
   "id": "c5e93a4c",
   "metadata": {},
   "outputs": [
    {
     "data": {
      "text/plain": [
       "'Astha'"
      ]
     },
     "execution_count": 128,
     "metadata": {},
     "output_type": "execute_result"
    }
   ],
   "source": [
    "stud2.print_name()"
   ]
  },
  {
   "cell_type": "code",
   "execution_count": 127,
   "id": "dfab73e9",
   "metadata": {},
   "outputs": [
    {
     "name": "stdout",
     "output_type": "stream",
     "text": [
      "Jaanu\n",
      "Chumpu\n",
      "Dolu\n",
      "Liku\n"
     ]
    }
   ],
   "source": [
    "stud5.print_name()"
   ]
  },
  {
   "cell_type": "code",
   "execution_count": 142,
   "id": "2d95405c",
   "metadata": {},
   "outputs": [
    {
     "name": "stdout",
     "output_type": "stream",
     "text": [
      "[['TV', 'Cricket', 'Music']]\n"
     ]
    }
   ],
   "source": [
    "stud1.hobbies_print()"
   ]
  },
  {
   "cell_type": "code",
   "execution_count": 259,
   "id": "308dabc3",
   "metadata": {},
   "outputs": [],
   "source": [
    "#implement logger using create own funtion \n",
    "#implement try catch\n",
    "import logging as log\n",
    "\n",
    "class data():\n",
    "    def __init__(self,filename,filetype,filedata,filesize):\n",
    "        self.file_name = filename\n",
    "        self.file_type = filetype\n",
    "        self.file_data = filedata\n",
    "        self.file_size = filesize\n",
    "        self.filename = self.file_name + self.file_type\n",
    "        log.basicConfig(filename = 'flog.log',level=log.INFO, format = \"%(asctime)s %(filelevel)s %(message)s\")\n",
    "        self.message= ' '\n",
    "        self.message_type = ' '\n",
    "    \n",
    "    #create logger function  \n",
    "    def file_log(self,message,messagetype):\n",
    "        log.critical(message)   \n",
    "    \n",
    "    #create file if not existing and write some data    \n",
    "    def file_open(self):\n",
    "        try:\n",
    "            self.f = open(self.filename,\"w\")\n",
    "        except Exception as e:\n",
    "            print(f\"{self.filename} does not exist\",e)\n",
    "            self.message = self.filename + \"does not exist during open\"\n",
    "            self.message_type = \"critical\"\n",
    "            file_log(self.message,self.message_type)\n",
    "            self.f = open(self.filename,\"w+\")\n",
    "        finally:    \n",
    "            self.f.write(f\"First Statement written in file{self.filename}\")\n",
    "    \n",
    "    def file_read(self):\n",
    "        try:\n",
    "            self.filename.read()\n",
    "        except Exception as e:\n",
    "            print(f\"{self.filename}File was not open during Read operation, need to open it\")\n",
    "            self.message = self.filename + \"does not exist during read operation\"\n",
    "            self.message_type = \"critical\"\n",
    "            self.file_log(self.message,self.message_type)\n",
    "            self.f = open(self.filename,\"r\")\n",
    "            print(self.f.read())\n",
    "        finally:\n",
    "            self.f.close()\n",
    "       \n",
    "   #append new data in it and show    \n",
    "    def file_append(self):\n",
    "        try:\n",
    "            self.f = open(self.filename,\"a\")\n",
    "            self.f.write(f\"\\nFirst apend written into {self.filename}\")\n",
    "        except Exception as e:\n",
    "            print(f\"{self.filename} File does not exist, need to create and write\")\n",
    "            self.message = self.filename + \"does not exist during append operation\"\n",
    "            self.message_type = \"critical\"\n",
    "            file_log(self.message,self.message_type)\n",
    "            self.f = open(self.filename,\"w\")\n",
    "            self.f.write(f\"{self.filename}First statement written\")\n",
    "        finally:\n",
    "            self.f.close()\n",
    "            self.f = open(self.filename,\"r\")\n",
    "            print(self.f.read())\n",
    "            self.f.close()\n",
    "\n",
    "\n",
    "        \n",
    "        \n",
    "    \n",
    "            "
   ]
  },
  {
   "cell_type": "code",
   "execution_count": 260,
   "id": "29830b3b",
   "metadata": {},
   "outputs": [],
   "source": [
    "file1 = data(\"f7\",\".txt\",1024,25)"
   ]
  },
  {
   "cell_type": "code",
   "execution_count": 261,
   "id": "769ec558",
   "metadata": {},
   "outputs": [],
   "source": [
    "file1.file_open()"
   ]
  },
  {
   "cell_type": "code",
   "execution_count": 262,
   "id": "1f1f36c5",
   "metadata": {},
   "outputs": [
    {
     "name": "stdout",
     "output_type": "stream",
     "text": [
      "f7.txtFile was not open during Read operation, need to open it\n",
      "First Statement written in filef7.txt\n"
     ]
    },
    {
     "name": "stderr",
     "output_type": "stream",
     "text": [
      "--- Logging error ---\n",
      "Traceback (most recent call last):\n",
      "  File \"C:\\Users\\Ravi0dubey\\AppData\\Local\\Temp/ipykernel_45628/1090817064.py\", line 35, in file_read\n",
      "    self.filename.read()\n",
      "AttributeError: 'str' object has no attribute 'read'\n",
      "\n",
      "During handling of the above exception, another exception occurred:\n",
      "\n",
      "Traceback (most recent call last):\n",
      "  File \"C:\\Users\\Ravi0dubey\\anaconda3\\lib\\logging\\__init__.py\", line 434, in format\n",
      "    return self._format(record)\n",
      "  File \"C:\\Users\\Ravi0dubey\\anaconda3\\lib\\logging\\__init__.py\", line 430, in _format\n",
      "    return self._fmt % record.__dict__\n",
      "KeyError: 'filelevel'\n",
      "\n",
      "During handling of the above exception, another exception occurred:\n",
      "\n",
      "Traceback (most recent call last):\n",
      "  File \"C:\\Users\\Ravi0dubey\\anaconda3\\lib\\logging\\__init__.py\", line 1083, in emit\n",
      "    msg = self.format(record)\n",
      "  File \"C:\\Users\\Ravi0dubey\\anaconda3\\lib\\logging\\__init__.py\", line 927, in format\n",
      "    return fmt.format(record)\n",
      "  File \"C:\\Users\\Ravi0dubey\\anaconda3\\lib\\logging\\__init__.py\", line 666, in format\n",
      "    s = self.formatMessage(record)\n",
      "  File \"C:\\Users\\Ravi0dubey\\anaconda3\\lib\\logging\\__init__.py\", line 635, in formatMessage\n",
      "    return self._style.format(record)\n",
      "  File \"C:\\Users\\Ravi0dubey\\anaconda3\\lib\\logging\\__init__.py\", line 436, in format\n",
      "    raise ValueError('Formatting field not found in record: %s' % e)\n",
      "ValueError: Formatting field not found in record: 'filelevel'\n",
      "Call stack:\n",
      "  File \"C:\\Users\\Ravi0dubey\\anaconda3\\lib\\runpy.py\", line 197, in _run_module_as_main\n",
      "    return _run_code(code, main_globals, None,\n",
      "  File \"C:\\Users\\Ravi0dubey\\anaconda3\\lib\\runpy.py\", line 87, in _run_code\n",
      "    exec(code, run_globals)\n",
      "  File \"C:\\Users\\Ravi0dubey\\anaconda3\\lib\\site-packages\\ipykernel_launcher.py\", line 16, in <module>\n",
      "    app.launch_new_instance()\n",
      "  File \"C:\\Users\\Ravi0dubey\\anaconda3\\lib\\site-packages\\traitlets\\config\\application.py\", line 846, in launch_instance\n",
      "    app.start()\n",
      "  File \"C:\\Users\\Ravi0dubey\\anaconda3\\lib\\site-packages\\ipykernel\\kernelapp.py\", line 677, in start\n",
      "    self.io_loop.start()\n",
      "  File \"C:\\Users\\Ravi0dubey\\anaconda3\\lib\\site-packages\\tornado\\platform\\asyncio.py\", line 199, in start\n",
      "    self.asyncio_loop.run_forever()\n",
      "  File \"C:\\Users\\Ravi0dubey\\anaconda3\\lib\\asyncio\\base_events.py\", line 596, in run_forever\n",
      "    self._run_once()\n",
      "  File \"C:\\Users\\Ravi0dubey\\anaconda3\\lib\\asyncio\\base_events.py\", line 1890, in _run_once\n",
      "    handle._run()\n",
      "  File \"C:\\Users\\Ravi0dubey\\anaconda3\\lib\\asyncio\\events.py\", line 80, in _run\n",
      "    self._context.run(self._callback, *self._args)\n",
      "  File \"C:\\Users\\Ravi0dubey\\anaconda3\\lib\\site-packages\\ipykernel\\kernelbase.py\", line 457, in dispatch_queue\n",
      "    await self.process_one()\n",
      "  File \"C:\\Users\\Ravi0dubey\\anaconda3\\lib\\site-packages\\ipykernel\\kernelbase.py\", line 446, in process_one\n",
      "    await dispatch(*args)\n",
      "  File \"C:\\Users\\Ravi0dubey\\anaconda3\\lib\\site-packages\\ipykernel\\kernelbase.py\", line 353, in dispatch_shell\n",
      "    await result\n",
      "  File \"C:\\Users\\Ravi0dubey\\anaconda3\\lib\\site-packages\\ipykernel\\kernelbase.py\", line 648, in execute_request\n",
      "    reply_content = await reply_content\n",
      "  File \"C:\\Users\\Ravi0dubey\\anaconda3\\lib\\site-packages\\ipykernel\\ipkernel.py\", line 353, in do_execute\n",
      "    res = shell.run_cell(code, store_history=store_history, silent=silent)\n",
      "  File \"C:\\Users\\Ravi0dubey\\anaconda3\\lib\\site-packages\\ipykernel\\zmqshell.py\", line 533, in run_cell\n",
      "    return super(ZMQInteractiveShell, self).run_cell(*args, **kwargs)\n",
      "  File \"C:\\Users\\Ravi0dubey\\anaconda3\\lib\\site-packages\\IPython\\core\\interactiveshell.py\", line 2901, in run_cell\n",
      "    result = self._run_cell(\n",
      "  File \"C:\\Users\\Ravi0dubey\\anaconda3\\lib\\site-packages\\IPython\\core\\interactiveshell.py\", line 2947, in _run_cell\n",
      "    return runner(coro)\n",
      "  File \"C:\\Users\\Ravi0dubey\\anaconda3\\lib\\site-packages\\IPython\\core\\async_helpers.py\", line 68, in _pseudo_sync_runner\n",
      "    coro.send(None)\n",
      "  File \"C:\\Users\\Ravi0dubey\\anaconda3\\lib\\site-packages\\IPython\\core\\interactiveshell.py\", line 3172, in run_cell_async\n",
      "    has_raised = await self.run_ast_nodes(code_ast.body, cell_name,\n",
      "  File \"C:\\Users\\Ravi0dubey\\anaconda3\\lib\\site-packages\\IPython\\core\\interactiveshell.py\", line 3364, in run_ast_nodes\n",
      "    if (await self.run_code(code, result,  async_=asy)):\n",
      "  File \"C:\\Users\\Ravi0dubey\\anaconda3\\lib\\site-packages\\IPython\\core\\interactiveshell.py\", line 3444, in run_code\n",
      "    exec(code_obj, self.user_global_ns, self.user_ns)\n",
      "  File \"C:\\Users\\Ravi0dubey\\AppData\\Local\\Temp/ipykernel_45628/51146010.py\", line 1, in <module>\n",
      "    file1.file_read()\n",
      "  File \"C:\\Users\\Ravi0dubey\\AppData\\Local\\Temp/ipykernel_45628/1090817064.py\", line 40, in file_read\n",
      "    self.file_log(self.message,self.message_type)\n",
      "  File \"C:\\Users\\Ravi0dubey\\AppData\\Local\\Temp/ipykernel_45628/1090817064.py\", line 18, in file_log\n",
      "    log.critical(message)\n",
      "Message: 'f7.txtdoes not exist during read operation'\n",
      "Arguments: ()\n"
     ]
    }
   ],
   "source": [
    "file1.file_read()"
   ]
  },
  {
   "cell_type": "code",
   "execution_count": 263,
   "id": "214e76a5",
   "metadata": {},
   "outputs": [
    {
     "name": "stdout",
     "output_type": "stream",
     "text": [
      "First Statement written in filef7.txt\n",
      "First apend written into f7.txt\n"
     ]
    }
   ],
   "source": [
    "file1.file_append()"
   ]
  },
  {
   "cell_type": "markdown",
   "id": "b0e4565a",
   "metadata": {},
   "source": [
    "# ABSTRACTION CONCEPT\n",
    "# Private, Public and Protected variable concept\n"
   ]
  },
  {
   "cell_type": "code",
   "execution_count": 35,
   "id": "d574e9f6",
   "metadata": {},
   "outputs": [],
   "source": [
    "# below defined variables are PUBLIC variable which can be access within class and by object\n",
    "class test:\n",
    "    def __init__(self,a,b,c,d):\n",
    "        self.a = a\n",
    "        self.b = b\n",
    "    def test_customer(self,v):\n",
    "        return v- self.a  "
   ]
  },
  {
   "cell_type": "code",
   "execution_count": 36,
   "id": "dcdad0b8",
   "metadata": {},
   "outputs": [],
   "source": [
    "a1 =test(1,2,3,4)"
   ]
  },
  {
   "cell_type": "code",
   "execution_count": 37,
   "id": "684523b2",
   "metadata": {},
   "outputs": [
    {
     "data": {
      "text/plain": [
       "2"
      ]
     },
     "execution_count": 37,
     "metadata": {},
     "output_type": "execute_result"
    }
   ],
   "source": [
    "a1.test_customer(3)"
   ]
  },
  {
   "cell_type": "code",
   "execution_count": 38,
   "id": "a8a26356",
   "metadata": {},
   "outputs": [
    {
     "data": {
      "text/plain": [
       "1"
      ]
     },
     "execution_count": 38,
     "metadata": {},
     "output_type": "execute_result"
    }
   ],
   "source": [
    "a1.a #object is able to access variable declared within class"
   ]
  },
  {
   "cell_type": "code",
   "execution_count": 39,
   "id": "86e26878",
   "metadata": {},
   "outputs": [
    {
     "data": {
      "text/plain": [
       "2"
      ]
     },
     "execution_count": 39,
     "metadata": {},
     "output_type": "execute_result"
    }
   ],
   "source": [
    "a1.b"
   ]
  },
  {
   "cell_type": "code",
   "execution_count": 73,
   "id": "5f77688c",
   "metadata": {},
   "outputs": [
    {
     "ename": "AttributeError",
     "evalue": "'test' object has no attribute '_testa'",
     "output_type": "error",
     "traceback": [
      "\u001b[1;31m---------------------------------------------------------------------------\u001b[0m",
      "\u001b[1;31mAttributeError\u001b[0m                            Traceback (most recent call last)",
      "\u001b[1;32m~\\AppData\\Local\\Temp/ipykernel_63896/3004513571.py\u001b[0m in \u001b[0;36m<module>\u001b[1;34m\u001b[0m\n\u001b[1;32m----> 1\u001b[1;33m \u001b[0ma1\u001b[0m\u001b[1;33m.\u001b[0m\u001b[0m_testa\u001b[0m \u001b[1;31m#focus on this access method. It will not work in case of public variable\u001b[0m\u001b[1;33m\u001b[0m\u001b[1;33m\u001b[0m\u001b[0m\n\u001b[0m",
      "\u001b[1;31mAttributeError\u001b[0m: 'test' object has no attribute '_testa'"
     ]
    }
   ],
   "source": [
    "a1._testa #focus on this access method. It will not work in case of public variable"
   ]
  },
  {
   "cell_type": "code",
   "execution_count": 41,
   "id": "7233e53c",
   "metadata": {},
   "outputs": [],
   "source": [
    "#PROTECTED Variable\n",
    "\n",
    "class test1:\n",
    "    def __init__(self,a,b,c,d):\n",
    "        self._a = a #variable declared with _ infront of it is treated as protected variable\n",
    "        self.b = b\n",
    "    def test1_customer(self,v):\n",
    "        return v- self._a  "
   ]
  },
  {
   "cell_type": "code",
   "execution_count": 42,
   "id": "caa54b63",
   "metadata": {},
   "outputs": [],
   "source": [
    "a2 =test1(1,2,3,4)"
   ]
  },
  {
   "cell_type": "code",
   "execution_count": 44,
   "id": "afd47363",
   "metadata": {},
   "outputs": [
    {
     "data": {
      "text/plain": [
       "2"
      ]
     },
     "execution_count": 44,
     "metadata": {},
     "output_type": "execute_result"
    }
   ],
   "source": [
    "a2.test1_customer(3)"
   ]
  },
  {
   "cell_type": "code",
   "execution_count": 45,
   "id": "bb506588",
   "metadata": {},
   "outputs": [
    {
     "data": {
      "text/plain": [
       "2"
      ]
     },
     "execution_count": 45,
     "metadata": {},
     "output_type": "execute_result"
    }
   ],
   "source": [
    "a2.b"
   ]
  },
  {
   "cell_type": "code",
   "execution_count": 47,
   "id": "6d043b11",
   "metadata": {},
   "outputs": [
    {
     "data": {
      "text/plain": [
       "1"
      ]
     },
     "execution_count": 47,
     "metadata": {},
     "output_type": "execute_result"
    }
   ],
   "source": [
    "a2._a #Protected variable can be accessed using object"
   ]
  },
  {
   "cell_type": "code",
   "execution_count": 71,
   "id": "dd8994d1",
   "metadata": {},
   "outputs": [
    {
     "ename": "AttributeError",
     "evalue": "'test1' object has no attribute 'test1_a'",
     "output_type": "error",
     "traceback": [
      "\u001b[1;31m---------------------------------------------------------------------------\u001b[0m",
      "\u001b[1;31mAttributeError\u001b[0m                            Traceback (most recent call last)",
      "\u001b[1;32m~\\AppData\\Local\\Temp/ipykernel_63896/1763386909.py\u001b[0m in \u001b[0;36m<module>\u001b[1;34m\u001b[0m\n\u001b[1;32m----> 1\u001b[1;33m \u001b[0ma2\u001b[0m\u001b[1;33m.\u001b[0m\u001b[0mtest1_a\u001b[0m\u001b[1;33m\u001b[0m\u001b[1;33m\u001b[0m\u001b[0m\n\u001b[0m",
      "\u001b[1;31mAttributeError\u001b[0m: 'test1' object has no attribute 'test1_a'"
     ]
    }
   ],
   "source": [
    "a2.test1_a #focus on this access method. It will not work in case of protected variable"
   ]
  },
  {
   "cell_type": "code",
   "execution_count": 74,
   "id": "22be5f4d",
   "metadata": {},
   "outputs": [
    {
     "ename": "AttributeError",
     "evalue": "'test1' object has no attribute '_test1_a'",
     "output_type": "error",
     "traceback": [
      "\u001b[1;31m---------------------------------------------------------------------------\u001b[0m",
      "\u001b[1;31mAttributeError\u001b[0m                            Traceback (most recent call last)",
      "\u001b[1;32m~\\AppData\\Local\\Temp/ipykernel_63896/3758364332.py\u001b[0m in \u001b[0;36m<module>\u001b[1;34m\u001b[0m\n\u001b[1;32m----> 1\u001b[1;33m \u001b[0ma2\u001b[0m\u001b[1;33m.\u001b[0m\u001b[0m_test1_a\u001b[0m \u001b[1;31m#focus on this access method. It will not work in case of protected variable\u001b[0m\u001b[1;33m\u001b[0m\u001b[1;33m\u001b[0m\u001b[0m\n\u001b[0m",
      "\u001b[1;31mAttributeError\u001b[0m: 'test1' object has no attribute '_test1_a'"
     ]
    }
   ],
   "source": [
    "a2._test1_a #focus on this access method. It will not work in case of protected variable"
   ]
  },
  {
   "cell_type": "code",
   "execution_count": 59,
   "id": "389217b6",
   "metadata": {},
   "outputs": [],
   "source": [
    "#PRIVATE Variable \n",
    "\n",
    "class test2:\n",
    "    def __init__(self,a,b,c,d):\n",
    "        self.__a = a # private variable is declared using __a\n",
    "        self.b = b  \n",
    "    def test2_customer(self,v):\n",
    "        return v- self.__a "
   ]
  },
  {
   "cell_type": "code",
   "execution_count": 60,
   "id": "97388724",
   "metadata": {},
   "outputs": [],
   "source": [
    "a3 =test2(1,2,3,4)"
   ]
  },
  {
   "cell_type": "code",
   "execution_count": 61,
   "id": "507c7f97",
   "metadata": {},
   "outputs": [
    {
     "data": {
      "text/plain": [
       "2"
      ]
     },
     "execution_count": 61,
     "metadata": {},
     "output_type": "execute_result"
    }
   ],
   "source": [
    "a3.test2_customer(3)"
   ]
  },
  {
   "cell_type": "code",
   "execution_count": 62,
   "id": "ec8a75a6",
   "metadata": {},
   "outputs": [
    {
     "data": {
      "text/plain": [
       "2"
      ]
     },
     "execution_count": 62,
     "metadata": {},
     "output_type": "execute_result"
    }
   ],
   "source": [
    "a3.b"
   ]
  },
  {
   "cell_type": "code",
   "execution_count": 63,
   "id": "b8ee6972",
   "metadata": {},
   "outputs": [
    {
     "ename": "AttributeError",
     "evalue": "'test2' object has no attribute '__a'",
     "output_type": "error",
     "traceback": [
      "\u001b[1;31m---------------------------------------------------------------------------\u001b[0m",
      "\u001b[1;31mAttributeError\u001b[0m                            Traceback (most recent call last)",
      "\u001b[1;32m~\\AppData\\Local\\Temp/ipykernel_63896/3749157918.py\u001b[0m in \u001b[0;36m<module>\u001b[1;34m\u001b[0m\n\u001b[1;32m----> 1\u001b[1;33m \u001b[0ma3\u001b[0m\u001b[1;33m.\u001b[0m\u001b[0m__a\u001b[0m\u001b[1;33m\u001b[0m\u001b[1;33m\u001b[0m\u001b[0m\n\u001b[0m",
      "\u001b[1;31mAttributeError\u001b[0m: 'test2' object has no attribute '__a'"
     ]
    }
   ],
   "source": [
    "a3.__a  #we cannot access protected variable using Object"
   ]
  },
  {
   "cell_type": "code",
   "execution_count": 75,
   "id": "838da9a3",
   "metadata": {},
   "outputs": [
    {
     "ename": "AttributeError",
     "evalue": "'test2' object has no attribute 'test2__a'",
     "output_type": "error",
     "traceback": [
      "\u001b[1;31m---------------------------------------------------------------------------\u001b[0m",
      "\u001b[1;31mAttributeError\u001b[0m                            Traceback (most recent call last)",
      "\u001b[1;32m~\\AppData\\Local\\Temp/ipykernel_63896/1550281578.py\u001b[0m in \u001b[0;36m<module>\u001b[1;34m\u001b[0m\n\u001b[1;32m----> 1\u001b[1;33m \u001b[0ma3\u001b[0m\u001b[1;33m.\u001b[0m\u001b[0mtest2__a\u001b[0m\u001b[1;33m\u001b[0m\u001b[1;33m\u001b[0m\u001b[0m\n\u001b[0m",
      "\u001b[1;31mAttributeError\u001b[0m: 'test2' object has no attribute 'test2__a'"
     ]
    }
   ],
   "source": [
    "a3.test2__a #nor can it be accessed using class"
   ]
  },
  {
   "cell_type": "code",
   "execution_count": 76,
   "id": "8e0af269",
   "metadata": {},
   "outputs": [
    {
     "data": {
      "text/plain": [
       "1"
      ]
     },
     "execution_count": 76,
     "metadata": {},
     "output_type": "execute_result"
    }
   ],
   "source": [
    "a3._test2__a #we can access private variable by placing _ infront of class name and then suffix by actual private variable"
   ]
  },
  {
   "cell_type": "markdown",
   "id": "3fa0dff4",
   "metadata": {},
   "source": [
    "# Inheritance CONCEPT\n"
   ]
  },
  {
   "cell_type": "code",
   "execution_count": 162,
   "id": "ff270f22",
   "metadata": {},
   "outputs": [],
   "source": [
    "class test4:\n",
    "    def __init__(self,a,b,c,d,e):\n",
    "        self.__a = a # private variable is declared using __a\n",
    "        self.b = b  \n",
    "        self._e = e # protected variable is declared using _e\n",
    "    def test4_customer(self,v4):\n",
    "        return v4 - self.__a \n",
    "    def test4_print(self):\n",
    "        print(\"Print function of test4\")\n",
    "    def __str__(self):\n",
    "        return \"This is my test code for abstraction\""
   ]
  },
  {
   "cell_type": "code",
   "execution_count": 166,
   "id": "562302bc",
   "metadata": {},
   "outputs": [],
   "source": [
    "class test5(test4):\n",
    "    def __init__(self,j,*args):\n",
    "        super().__init__(*args)\n",
    "        self.j = j\n",
    "        \n",
    "    def test5_customer(self,v5):\n",
    "        return v5 - self.b  #variable b is inherited inside test5 from test4 class\n",
    "    def print_values(self):\n",
    "#         print(f\"a: {self.__a}\") #__a being private variable we cannot access from test5 despite inheritance\n",
    "        print(f\"b: {self.b}\") # we can print public variable b from test5 which inherits from test4\n",
    "#         print(f\"c: {self.c}\") #since c and d variable are not part of assignment in init of test4 we cannot print \n",
    "#         print(f\"d: {self.d}\")\n",
    "        print(f\"e: {self._e}\") #we can print protected variable of test4 from test5\n",
    "    def print_super_class(self):\n",
    "        super().test4_print()"
   ]
  },
  {
   "cell_type": "code",
   "execution_count": 167,
   "id": "55c695bb",
   "metadata": {},
   "outputs": [],
   "source": [
    "a5= test5(5,6,7,8,9,10) \n",
    "# In this case 5 will act as j which will be passed to __init__ of test5 class\n",
    "#6,7,8,9 gets assigned to *args which in turn is passed to __init__ of test4 class\n",
    "# __a gets assigned to value 6\n",
    "# b gets assigned to value 7\n",
    "# c value 8 is meant for c but since there is no assignment for variable c in test4 init class, we cannot fetch value of c\n",
    "# d value 9 is meant for d but since there is no assignment for variable d in test4 init class, we cannot fetch value of d\n",
    "# e value 10 is meant for protected variable e"
   ]
  },
  {
   "cell_type": "code",
   "execution_count": 179,
   "id": "3b0dfe31",
   "metadata": {},
   "outputs": [
    {
     "name": "stdout",
     "output_type": "stream",
     "text": [
      "Print function of test4\n"
     ]
    }
   ],
   "source": [
    "a5.print_super_class() #we can access any function of super class ie test4 within test5 using super.function name"
   ]
  },
  {
   "cell_type": "code",
   "execution_count": 168,
   "id": "f118635b",
   "metadata": {},
   "outputs": [
    {
     "data": {
      "text/plain": [
       "5"
      ]
     },
     "execution_count": 168,
     "metadata": {},
     "output_type": "execute_result"
    }
   ],
   "source": [
    "a5.j  #it prints 5 which is first parameter to test5"
   ]
  },
  {
   "cell_type": "code",
   "execution_count": 169,
   "id": "e20b37ce",
   "metadata": {},
   "outputs": [
    {
     "data": {
      "text/plain": [
       "7"
      ]
     },
     "execution_count": 169,
     "metadata": {},
     "output_type": "execute_result"
    }
   ],
   "source": [
    "a5.b # it prints 7 which is third parameter to test5 __init__ and 2nd paramter to __init__ of test4"
   ]
  },
  {
   "cell_type": "code",
   "execution_count": 161,
   "id": "beb5771f",
   "metadata": {},
   "outputs": [
    {
     "data": {
      "text/plain": [
       "-5"
      ]
     },
     "execution_count": 161,
     "metadata": {},
     "output_type": "execute_result"
    }
   ],
   "source": [
    "# we can call function of test4 from test5 \n",
    "# substraction happens between value 1 passsed as parameter and 6 which is value of __a so 1-6 = -5\n",
    "a5.test4_customer(1) "
   ]
  },
  {
   "cell_type": "code",
   "execution_count": 170,
   "id": "c423c84a",
   "metadata": {},
   "outputs": [
    {
     "data": {
      "text/plain": [
       "-6"
      ]
     },
     "execution_count": 170,
     "metadata": {},
     "output_type": "execute_result"
    }
   ],
   "source": [
    "a5.test5_customer(1) #substraction value 1 passsed as parameter and 7 which is value of b so 1-7 = -6"
   ]
  },
  {
   "cell_type": "code",
   "execution_count": 171,
   "id": "15c3f336",
   "metadata": {},
   "outputs": [
    {
     "name": "stdout",
     "output_type": "stream",
     "text": [
      "b: 7\n",
      "e: 10\n"
     ]
    }
   ],
   "source": [
    "a5.print_values() #publicand protected variables gets printed not the private or unassigned variables so they are commented"
   ]
  },
  {
   "cell_type": "code",
   "execution_count": 172,
   "id": "f8c38841",
   "metadata": {},
   "outputs": [
    {
     "data": {
      "text/plain": [
       "6"
      ]
     },
     "execution_count": 172,
     "metadata": {},
     "output_type": "execute_result"
    }
   ],
   "source": [
    "a5._test4__a #we can access value of Private variable __a from class test4"
   ]
  },
  {
   "cell_type": "code",
   "execution_count": 173,
   "id": "4850bae6",
   "metadata": {},
   "outputs": [
    {
     "ename": "AttributeError",
     "evalue": "'test5' object has no attribute '_test5__a'",
     "output_type": "error",
     "traceback": [
      "\u001b[1;31m---------------------------------------------------------------------------\u001b[0m",
      "\u001b[1;31mAttributeError\u001b[0m                            Traceback (most recent call last)",
      "\u001b[1;32m~\\AppData\\Local\\Temp/ipykernel_63896/4082089735.py\u001b[0m in \u001b[0;36m<module>\u001b[1;34m\u001b[0m\n\u001b[1;32m----> 1\u001b[1;33m \u001b[0ma5\u001b[0m\u001b[1;33m.\u001b[0m\u001b[0m_test5__a\u001b[0m \u001b[1;31m#we cannot access value of Private variable __a from class test5 as __a is a private variable\u001b[0m\u001b[1;33m\u001b[0m\u001b[1;33m\u001b[0m\u001b[0m\n\u001b[0m",
      "\u001b[1;31mAttributeError\u001b[0m: 'test5' object has no attribute '_test5__a'"
     ]
    }
   ],
   "source": [
    "a5._test5__a #we cannot access value of Private variable __a from class test5 as __a is a private variable"
   ]
  },
  {
   "cell_type": "code",
   "execution_count": 174,
   "id": "9201868c",
   "metadata": {},
   "outputs": [
    {
     "ename": "TypeError",
     "evalue": "__init__() takes 6 positional arguments but 7 were given",
     "output_type": "error",
     "traceback": [
      "\u001b[1;31m---------------------------------------------------------------------------\u001b[0m",
      "\u001b[1;31mTypeError\u001b[0m                                 Traceback (most recent call last)",
      "\u001b[1;32m~\\AppData\\Local\\Temp/ipykernel_63896/1554755991.py\u001b[0m in \u001b[0;36m<module>\u001b[1;34m\u001b[0m\n\u001b[0;32m      3\u001b[0m \u001b[1;31m# less than 6 or more than 6 will result in error\u001b[0m\u001b[1;33m\u001b[0m\u001b[1;33m\u001b[0m\u001b[0m\n\u001b[0;32m      4\u001b[0m \u001b[1;31m# in below case 7 parameters were passed instead of 6 so resulted in error\u001b[0m\u001b[1;33m\u001b[0m\u001b[1;33m\u001b[0m\u001b[0m\n\u001b[1;32m----> 5\u001b[1;33m \u001b[0ma6\u001b[0m\u001b[1;33m=\u001b[0m \u001b[0mtest5\u001b[0m\u001b[1;33m(\u001b[0m\u001b[1;36m5\u001b[0m\u001b[1;33m,\u001b[0m\u001b[1;36m6\u001b[0m\u001b[1;33m,\u001b[0m\u001b[1;36m7\u001b[0m\u001b[1;33m,\u001b[0m\u001b[1;36m8\u001b[0m\u001b[1;33m,\u001b[0m\u001b[1;36m9\u001b[0m\u001b[1;33m,\u001b[0m\u001b[1;36m10\u001b[0m\u001b[1;33m,\u001b[0m\u001b[1;36m11\u001b[0m\u001b[1;33m)\u001b[0m\u001b[1;33m\u001b[0m\u001b[1;33m\u001b[0m\u001b[0m\n\u001b[0m",
      "\u001b[1;32m~\\AppData\\Local\\Temp/ipykernel_63896/4072208407.py\u001b[0m in \u001b[0;36m__init__\u001b[1;34m(self, j, *args)\u001b[0m\n\u001b[0;32m      1\u001b[0m \u001b[1;32mclass\u001b[0m \u001b[0mtest5\u001b[0m\u001b[1;33m(\u001b[0m\u001b[0mtest4\u001b[0m\u001b[1;33m)\u001b[0m\u001b[1;33m:\u001b[0m\u001b[1;33m\u001b[0m\u001b[1;33m\u001b[0m\u001b[0m\n\u001b[0;32m      2\u001b[0m     \u001b[1;32mdef\u001b[0m \u001b[0m__init__\u001b[0m\u001b[1;33m(\u001b[0m\u001b[0mself\u001b[0m\u001b[1;33m,\u001b[0m\u001b[0mj\u001b[0m\u001b[1;33m,\u001b[0m\u001b[1;33m*\u001b[0m\u001b[0margs\u001b[0m\u001b[1;33m)\u001b[0m\u001b[1;33m:\u001b[0m\u001b[1;33m\u001b[0m\u001b[1;33m\u001b[0m\u001b[0m\n\u001b[1;32m----> 3\u001b[1;33m         \u001b[0msuper\u001b[0m\u001b[1;33m(\u001b[0m\u001b[1;33m)\u001b[0m\u001b[1;33m.\u001b[0m\u001b[0m__init__\u001b[0m\u001b[1;33m(\u001b[0m\u001b[1;33m*\u001b[0m\u001b[0margs\u001b[0m\u001b[1;33m)\u001b[0m\u001b[1;33m\u001b[0m\u001b[1;33m\u001b[0m\u001b[0m\n\u001b[0m\u001b[0;32m      4\u001b[0m         \u001b[0mself\u001b[0m\u001b[1;33m.\u001b[0m\u001b[0mj\u001b[0m \u001b[1;33m=\u001b[0m \u001b[0mj\u001b[0m\u001b[1;33m\u001b[0m\u001b[1;33m\u001b[0m\u001b[0m\n\u001b[0;32m      5\u001b[0m \u001b[1;33m\u001b[0m\u001b[0m\n",
      "\u001b[1;31mTypeError\u001b[0m: __init__() takes 6 positional arguments but 7 were given"
     ]
    }
   ],
   "source": [
    "#how many argument we can pass while creating object from test5\n",
    "#we need to pass 1 parameter of init of test5 and 5 for init of test4. total 6 parameters\n",
    "# less than 6 or more than 6 will result in error\n",
    "# in below case 7 parameters were passed instead of 6 so resulted in error\n",
    "a6= test5(5,6,7,8,9,10,11) "
   ]
  },
  {
   "cell_type": "code",
   "execution_count": 175,
   "id": "b2dfd0cc",
   "metadata": {},
   "outputs": [
    {
     "ename": "TypeError",
     "evalue": "__init__() missing 1 required positional argument: 'e'",
     "output_type": "error",
     "traceback": [
      "\u001b[1;31m---------------------------------------------------------------------------\u001b[0m",
      "\u001b[1;31mTypeError\u001b[0m                                 Traceback (most recent call last)",
      "\u001b[1;32m~\\AppData\\Local\\Temp/ipykernel_63896/801063079.py\u001b[0m in \u001b[0;36m<module>\u001b[1;34m\u001b[0m\n\u001b[0;32m      3\u001b[0m \u001b[1;31m# less than 6 or more than 6 will result in error\u001b[0m\u001b[1;33m\u001b[0m\u001b[1;33m\u001b[0m\u001b[0m\n\u001b[0;32m      4\u001b[0m \u001b[1;31m#in below case 5 parameters were passed instead of 6, hence resulted in error\u001b[0m\u001b[1;33m\u001b[0m\u001b[1;33m\u001b[0m\u001b[0m\n\u001b[1;32m----> 5\u001b[1;33m \u001b[0ma7\u001b[0m\u001b[1;33m=\u001b[0m \u001b[0mtest5\u001b[0m\u001b[1;33m(\u001b[0m\u001b[1;36m5\u001b[0m\u001b[1;33m,\u001b[0m\u001b[1;36m6\u001b[0m\u001b[1;33m,\u001b[0m\u001b[1;36m7\u001b[0m\u001b[1;33m,\u001b[0m\u001b[1;36m8\u001b[0m\u001b[1;33m,\u001b[0m\u001b[1;36m9\u001b[0m\u001b[1;33m)\u001b[0m\u001b[1;33m\u001b[0m\u001b[1;33m\u001b[0m\u001b[0m\n\u001b[0m",
      "\u001b[1;32m~\\AppData\\Local\\Temp/ipykernel_63896/4072208407.py\u001b[0m in \u001b[0;36m__init__\u001b[1;34m(self, j, *args)\u001b[0m\n\u001b[0;32m      1\u001b[0m \u001b[1;32mclass\u001b[0m \u001b[0mtest5\u001b[0m\u001b[1;33m(\u001b[0m\u001b[0mtest4\u001b[0m\u001b[1;33m)\u001b[0m\u001b[1;33m:\u001b[0m\u001b[1;33m\u001b[0m\u001b[1;33m\u001b[0m\u001b[0m\n\u001b[0;32m      2\u001b[0m     \u001b[1;32mdef\u001b[0m \u001b[0m__init__\u001b[0m\u001b[1;33m(\u001b[0m\u001b[0mself\u001b[0m\u001b[1;33m,\u001b[0m\u001b[0mj\u001b[0m\u001b[1;33m,\u001b[0m\u001b[1;33m*\u001b[0m\u001b[0margs\u001b[0m\u001b[1;33m)\u001b[0m\u001b[1;33m:\u001b[0m\u001b[1;33m\u001b[0m\u001b[1;33m\u001b[0m\u001b[0m\n\u001b[1;32m----> 3\u001b[1;33m         \u001b[0msuper\u001b[0m\u001b[1;33m(\u001b[0m\u001b[1;33m)\u001b[0m\u001b[1;33m.\u001b[0m\u001b[0m__init__\u001b[0m\u001b[1;33m(\u001b[0m\u001b[1;33m*\u001b[0m\u001b[0margs\u001b[0m\u001b[1;33m)\u001b[0m\u001b[1;33m\u001b[0m\u001b[1;33m\u001b[0m\u001b[0m\n\u001b[0m\u001b[0;32m      4\u001b[0m         \u001b[0mself\u001b[0m\u001b[1;33m.\u001b[0m\u001b[0mj\u001b[0m \u001b[1;33m=\u001b[0m \u001b[0mj\u001b[0m\u001b[1;33m\u001b[0m\u001b[1;33m\u001b[0m\u001b[0m\n\u001b[0;32m      5\u001b[0m \u001b[1;33m\u001b[0m\u001b[0m\n",
      "\u001b[1;31mTypeError\u001b[0m: __init__() missing 1 required positional argument: 'e'"
     ]
    }
   ],
   "source": [
    "#how many argument we can pass while creating object from test5\n",
    "#we need to pass 1 parameter of init of test5 and 5 for init of test4. total 6 parameters\n",
    "# less than 6 or more than 6 will result in error\n",
    "#in below case 5 parameters were passed instead of 6, hence resulted in error\n",
    "a7= test5(5,6,7,8,9) "
   ]
  },
  {
   "cell_type": "code",
   "execution_count": 385,
   "id": "2c1d8c70",
   "metadata": {},
   "outputs": [],
   "source": [
    "#Challenge 1\n",
    "# Create two class Testa and Testb. Have a common function name in both the Class\n",
    "# Create a new class Test6 which inherist class Testa and Testb\n",
    "\n",
    "class testa():\n",
    "    def __init__(self,a1,b1,**kwargs):\n",
    "        self.a1 = a1\n",
    "        self.b1 = b1\n",
    "        super().__init__(**kwargs)\n",
    "    def print_values(self):  #Here we have kept name of function print_values() common in parent class Testa and Testb\n",
    "        print(\"Inside testa function\")\n",
    "        print(f\"value of a1 : {self.a1}\")\n",
    "        print(f\"value of b1 : {self.b1}\")\n",
    "        \n",
    "class testb():\n",
    "    def __init__(self,a2,b2,**kwargs):\n",
    "        self.a2 = a2\n",
    "        self.b2 = b2\n",
    "        super().__init__(**kwargs)\n",
    "    def print_values(self): #Here we have kept name of function print_values() common in parent class Testa and Testb\n",
    "        print(\"Inside testb function\")\n",
    "        print(f\"value of a2 : {self.a2}\")\n",
    "        print(f\"value of b2 : {self.b2}\")\n",
    "\n",
    "class test6(testa,testb):\n",
    "    def __init__(self,a6,b6,a11,b11,a12,b12,**kwargs):\n",
    "\n",
    "#There are 2 ways to pass parameter to parent class\n",
    "\n",
    "#method1 : assign the values of parent class in init function\n",
    "        super().__init__(a1=a11,b1=b11,a2=a12,b2=b12,**kwargs)\n",
    "\n",
    "#method2 : assign the values of parent class in using Key value pair assignment and just pass **kwargs in init function    \n",
    "#         kwargs[\"a1\"]= a11\n",
    "#         kwargs[\"b1\"]= b11\n",
    "#         kwargs[\"a2\"]= a12\n",
    "#         kwargs[\"b2\"] = b12\n",
    "#         super().__init__(**kwargs)\n",
    "\n",
    "        self.a6 = a6\n",
    "        self.b6 = b6\n",
    "        \n",
    "    def print_values(self):\n",
    "        print(\"Inside test6 function\")\n",
    "        print(f\"value of a6 : {self.a6}\")\n",
    "        print(f\"value of b6 : {self.b6}\")\n",
    "        \n",
    "#If we have kept name of function same in parent class, Super will call function of first parent class everytime\n",
    "        super().print_values() \n",
    "        super().print_values()\n",
    "\n",
    "#for specific class function same call of parent class, prefix the parent class name with the function name \n",
    "#and self as parameter\n",
    "        testa.print_values(self)\n",
    "        testb.print_values(self)\n",
    "        print(f\"value of a1 from test6 print : {self.a1}\")\n",
    "        print(f\"value of b1 from test6 print: {self.b1}\")\n",
    "        print(f\"value of a2 from test6 print: {self.a2}\")\n",
    "        print(f\"value of b2 from test6 print: {self.b2}\")                  "
   ]
  },
  {
   "cell_type": "code",
   "execution_count": 305,
   "id": "699df47e",
   "metadata": {},
   "outputs": [],
   "source": [
    "aa = testa(1,2)"
   ]
  },
  {
   "cell_type": "code",
   "execution_count": 306,
   "id": "46f6c29b",
   "metadata": {},
   "outputs": [
    {
     "data": {
      "text/plain": [
       "1"
      ]
     },
     "execution_count": 306,
     "metadata": {},
     "output_type": "execute_result"
    }
   ],
   "source": [
    "aa.a1"
   ]
  },
  {
   "cell_type": "code",
   "execution_count": 307,
   "id": "6ce3fa4b",
   "metadata": {},
   "outputs": [
    {
     "data": {
      "text/plain": [
       "2"
      ]
     },
     "execution_count": 307,
     "metadata": {},
     "output_type": "execute_result"
    }
   ],
   "source": [
    "aa.b1"
   ]
  },
  {
   "cell_type": "code",
   "execution_count": 308,
   "id": "7a4727d1",
   "metadata": {},
   "outputs": [
    {
     "name": "stdout",
     "output_type": "stream",
     "text": [
      "Inside testa function\n",
      "value of a1 : 1\n",
      "value of b1 : 2\n"
     ]
    }
   ],
   "source": [
    "aa.print_values()"
   ]
  },
  {
   "cell_type": "code",
   "execution_count": 309,
   "id": "6c818e07",
   "metadata": {},
   "outputs": [],
   "source": [
    "ab = testb(3,4)"
   ]
  },
  {
   "cell_type": "code",
   "execution_count": 310,
   "id": "56a6c71e",
   "metadata": {},
   "outputs": [
    {
     "data": {
      "text/plain": [
       "3"
      ]
     },
     "execution_count": 310,
     "metadata": {},
     "output_type": "execute_result"
    }
   ],
   "source": [
    "ab.a2"
   ]
  },
  {
   "cell_type": "code",
   "execution_count": 311,
   "id": "463821fd",
   "metadata": {},
   "outputs": [
    {
     "data": {
      "text/plain": [
       "4"
      ]
     },
     "execution_count": 311,
     "metadata": {},
     "output_type": "execute_result"
    }
   ],
   "source": [
    "ab.b2"
   ]
  },
  {
   "cell_type": "code",
   "execution_count": 313,
   "id": "c5113cbf",
   "metadata": {},
   "outputs": [
    {
     "name": "stdout",
     "output_type": "stream",
     "text": [
      "Inside testb function\n",
      "value of a2 : 3\n",
      "value of b2 : 4\n"
     ]
    }
   ],
   "source": [
    "ab.print_values()"
   ]
  },
  {
   "cell_type": "code",
   "execution_count": 386,
   "id": "7fa19fb2",
   "metadata": {},
   "outputs": [],
   "source": [
    "# In this case 5 and 6 will get assigned to child class values\n",
    "#7,8,9,10 gets assigned to **kwargs which in turn is passed to __init__ of testa class and testb class\n",
    "# a6 gets assigned to value 5\n",
    "# b6 gets assigned to value 6\n",
    "# a1 gets assigned to value 7\n",
    "# b1 gets assigned to value 8\n",
    "# a2 gets assigned to value 9\n",
    "# b2 gets assigned to value 10\n",
    "a6= test6(5,6,7,8,9,10)"
   ]
  },
  {
   "cell_type": "code",
   "execution_count": 331,
   "id": "4a74ac56",
   "metadata": {},
   "outputs": [
    {
     "data": {
      "text/plain": [
       "5"
      ]
     },
     "execution_count": 331,
     "metadata": {},
     "output_type": "execute_result"
    }
   ],
   "source": [
    "a6.a6"
   ]
  },
  {
   "cell_type": "code",
   "execution_count": 332,
   "id": "07aaaac6",
   "metadata": {},
   "outputs": [
    {
     "data": {
      "text/plain": [
       "6"
      ]
     },
     "execution_count": 332,
     "metadata": {},
     "output_type": "execute_result"
    }
   ],
   "source": [
    "a6.b6"
   ]
  },
  {
   "cell_type": "code",
   "execution_count": 369,
   "id": "e92e9f38",
   "metadata": {},
   "outputs": [
    {
     "data": {
      "text/plain": [
       "7"
      ]
     },
     "execution_count": 369,
     "metadata": {},
     "output_type": "execute_result"
    }
   ],
   "source": [
    "a6.a1"
   ]
  },
  {
   "cell_type": "code",
   "execution_count": 356,
   "id": "7eb36a2f",
   "metadata": {},
   "outputs": [
    {
     "data": {
      "text/plain": [
       "8"
      ]
     },
     "execution_count": 356,
     "metadata": {},
     "output_type": "execute_result"
    }
   ],
   "source": [
    "a6.b1"
   ]
  },
  {
   "cell_type": "code",
   "execution_count": 357,
   "id": "78487fff",
   "metadata": {},
   "outputs": [
    {
     "data": {
      "text/plain": [
       "9"
      ]
     },
     "execution_count": 357,
     "metadata": {},
     "output_type": "execute_result"
    }
   ],
   "source": [
    "a6.a2"
   ]
  },
  {
   "cell_type": "code",
   "execution_count": 358,
   "id": "5857be6b",
   "metadata": {},
   "outputs": [
    {
     "data": {
      "text/plain": [
       "10"
      ]
     },
     "execution_count": 358,
     "metadata": {},
     "output_type": "execute_result"
    }
   ],
   "source": [
    "a6.b2"
   ]
  },
  {
   "cell_type": "code",
   "execution_count": 388,
   "id": "1974e555",
   "metadata": {},
   "outputs": [
    {
     "name": "stdout",
     "output_type": "stream",
     "text": [
      "Inside test6 function\n",
      "value of a6 : 5\n",
      "value of b6 : 6\n",
      "Inside testa function\n",
      "value of a1 : 7\n",
      "value of b1 : 8\n",
      "Inside testa function\n",
      "value of a1 : 7\n",
      "value of b1 : 8\n",
      "Inside testa function\n",
      "value of a1 : 7\n",
      "value of b1 : 8\n",
      "Inside testb function\n",
      "value of a2 : 9\n",
      "value of b2 : 10\n",
      "value of a1 from test6 print : 7\n",
      "value of b1 from test6 print: 8\n",
      "value of a2 from test6 print: 9\n",
      "value of b2 from test6 print: 10\n"
     ]
    }
   ],
   "source": [
    "#print_values of parent calss A will be called in super().print_values\n",
    "#but we will get the values from test a and testb call once the function is prefixed with parent class name\n",
    "a6.print_values() "
   ]
  },
  {
   "cell_type": "code",
   "execution_count": null,
   "id": "3ce34c62",
   "metadata": {},
   "outputs": [],
   "source": []
  }
 ],
 "metadata": {
  "kernelspec": {
   "display_name": "Python 3 (ipykernel)",
   "language": "python",
   "name": "python3"
  },
  "language_info": {
   "codemirror_mode": {
    "name": "ipython",
    "version": 3
   },
   "file_extension": ".py",
   "mimetype": "text/x-python",
   "name": "python",
   "nbconvert_exporter": "python",
   "pygments_lexer": "ipython3",
   "version": "3.9.7"
  }
 },
 "nbformat": 4,
 "nbformat_minor": 5
}
