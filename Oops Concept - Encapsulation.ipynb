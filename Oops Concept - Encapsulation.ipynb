{
 "cells": [
  {
   "cell_type": "markdown",
   "id": "9eef453d",
   "metadata": {},
   "source": [
    "# Encapsulation\n",
    "#Trying to perform or acess the values of function without directly referencing element of any function class\n",
    "#we can fetch private variable of a function without directly calling them\n"
   ]
  },
  {
   "cell_type": "code",
   "execution_count": 124,
   "id": "0bf27f49",
   "metadata": {},
   "outputs": [],
   "source": [
    "#Example1\n",
    "#Trying to perform or acess the values of function without directly referencing element of any function class\n",
    "#we can fetch private variable of a function without directly calling them\n",
    "\n",
    "class testx():\n",
    "    def __init__(self,a1,b1):\n",
    "        self.__a1 = a1\n",
    "        self.b1 = b1        \n",
    "    def print_values(self):  \n",
    "        print(\"Inside testa function\")\n",
    "        print(f\"value of a1 : {self.__a1}\")\n",
    "        print(f\"value of b1 : {self.b1}\")\n",
    "    def __str__(self):\n",
    "        self.print_values()\n",
    "        return \"Inside testa function\"\n",
    "        \n",
    "class testy():\n",
    "    def __init__(self,a2,b2):\n",
    "        self.a2 = a2\n",
    "        self.b2 = b2       \n",
    "    def print_values(self):\n",
    "        print(\"Inside testb function\")\n",
    "        print(f\"value of a2 : {self.a2}\")\n",
    "        print(f\"value of b2 : {self.b2}\")\n",
    "    def __str__(self):\n",
    "        self.print_values()\n",
    "        return \"Inside testb function\"\n",
    "\n",
    "class testz():\n",
    "    def __init__(self,a6,b6):\n",
    "        self.a6 = a6\n",
    "        self.b6 = b6\n",
    "        \n",
    "    def print_values(self):\n",
    "        print(\"Inside test6 function\") \n",
    "\n",
    "    def __str__(self):\n",
    "        return str(self.a6)+ \" \" + str(self.b6)"
   ]
  },
  {
   "cell_type": "code",
   "execution_count": 115,
   "id": "f4584d24",
   "metadata": {},
   "outputs": [],
   "source": [
    "o1 = testx(4,5)"
   ]
  },
  {
   "cell_type": "code",
   "execution_count": 116,
   "id": "de963485",
   "metadata": {},
   "outputs": [
    {
     "name": "stdout",
     "output_type": "stream",
     "text": [
      "Inside testa function\n",
      "value of a1 : 4\n",
      "value of b1 : 5\n"
     ]
    }
   ],
   "source": [
    "o1.print_values()"
   ]
  },
  {
   "cell_type": "code",
   "execution_count": 104,
   "id": "95cfc114",
   "metadata": {},
   "outputs": [
    {
     "name": "stdout",
     "output_type": "stream",
     "text": [
      "Inside testa function\n",
      "value of a1 : 4\n",
      "value of b1 : 5\n",
      "Inside testa function\n"
     ]
    }
   ],
   "source": [
    "print(o1)"
   ]
  },
  {
   "cell_type": "code",
   "execution_count": 105,
   "id": "d00b053f",
   "metadata": {},
   "outputs": [],
   "source": [
    "o2= testy(6,7)"
   ]
  },
  {
   "cell_type": "code",
   "execution_count": 106,
   "id": "39dcc3a9",
   "metadata": {},
   "outputs": [
    {
     "name": "stdout",
     "output_type": "stream",
     "text": [
      "Inside testb function\n",
      "value of a2 : 6\n",
      "value of b2 : 7\n"
     ]
    }
   ],
   "source": [
    "o2.print_values()"
   ]
  },
  {
   "cell_type": "code",
   "execution_count": 107,
   "id": "31dd0723",
   "metadata": {},
   "outputs": [
    {
     "name": "stdout",
     "output_type": "stream",
     "text": [
      "Inside testb function\n",
      "value of a2 : 6\n",
      "value of b2 : 7\n",
      "Inside testb function\n"
     ]
    }
   ],
   "source": [
    "print(o2)"
   ]
  },
  {
   "cell_type": "code",
   "execution_count": 117,
   "id": "27ac2585",
   "metadata": {},
   "outputs": [],
   "source": [
    "o3= testz(o1,o2)"
   ]
  },
  {
   "cell_type": "code",
   "execution_count": 118,
   "id": "47db522a",
   "metadata": {},
   "outputs": [
    {
     "name": "stdout",
     "output_type": "stream",
     "text": [
      "Inside test6 function\n"
     ]
    }
   ],
   "source": [
    "o3.print_values()"
   ]
  },
  {
   "cell_type": "code",
   "execution_count": 119,
   "id": "2af845e4",
   "metadata": {},
   "outputs": [
    {
     "name": "stdout",
     "output_type": "stream",
     "text": [
      "Inside testa function\n",
      "value of a1 : 4\n",
      "value of b1 : 5\n",
      "Inside testb function\n",
      "value of a2 : 6\n",
      "value of b2 : 7\n",
      "Inside testa function Inside testb function\n"
     ]
    }
   ],
   "source": [
    "print(o3) #able to print values of test class a and test class b without referring the elements of either class"
   ]
  },
  {
   "cell_type": "code",
   "execution_count": 121,
   "id": "ea72d71a",
   "metadata": {},
   "outputs": [
    {
     "data": {
      "text/plain": [
       "4"
      ]
     },
     "execution_count": 121,
     "metadata": {},
     "output_type": "execute_result"
    }
   ],
   "source": [
    "o1._testx__a1"
   ]
  },
  {
   "cell_type": "code",
   "execution_count": 247,
   "id": "37b06eb9",
   "metadata": {},
   "outputs": [],
   "source": [
    "#Example 2 of Encapsulation\n",
    "\n",
    "# Class Car fetch properties of 3 classes ( Tyres, Engine and Body). \n",
    "# Values of each class type are passed separately during creation of their object\n",
    "# While creation of object of car, objects of Tyres, Engine and Body is passed along with additional parameter of Car name\n",
    "\n",
    "#Car object will not call or read any parameters of any of the Class directly. instead through object of each class it will \n",
    "#fetch the values of parameters\n",
    "\n",
    "class Tyres:\n",
    "    def __init__(self, brand,t_size,t_pressure):\n",
    "        self.brand = brand\n",
    "        self.t_size = t_size\n",
    "        self.t_pressure = t_pressure\n",
    "    \n",
    "    def __str__(self):\n",
    "        return (\"Tyres :\\n \\tBrand:\" + self.brand +\n",
    "                \"\\n \\tTyre size: \" + self.t_size +\n",
    "                \"\\n \\tTyre pressure: \" + str(self.t_pressure))\n",
    "            \n",
    "\n",
    "class Engine:\n",
    "    def __init__(self,brand,power,capacity):\n",
    "        self.brand = brand\n",
    "        self.power = power\n",
    "        self.capacity = capacity\n",
    "        \n",
    "    def __str__(self):\n",
    "        return (\"Engine :\\n \\tBrand:\" + self.brand +\n",
    "                \"\\n \\tPower: \" + str(self.power) +\n",
    "                \"\\n \\tCapacity: \" + str(self.capacity))\n",
    "            \n",
    "\n",
    "class Body:\n",
    "    def __init__(self,body,size):\n",
    "        self.body = body\n",
    "        self.size = size\n",
    "                \n",
    "    def __str__(self):\n",
    "        return (\"Body :\\n \\tBody:\" + self.body +\n",
    "                \"\\n \\tSize: \" + self.size)\n",
    "                \n",
    "class car:\n",
    "    def __init__(self,name,tyre,engine,body):\n",
    "# local variable name can be kept anything we can keep same name or a different \n",
    "# like Name, tyres, engine, body or w,x,y,z. Both will work\n",
    "#         self.Name = name\n",
    "#         self.tyres = tyre\n",
    "#         self.engine = engine\n",
    "#         self.body = body\n",
    "        self.w = name\n",
    "        self.x = tyre\n",
    "        self.y = engine\n",
    "        self.z = body     \n",
    "\n",
    "# Below Brand variable will be treated as new one specific to car class type instead of variable brand  of Tyre Class\n",
    "        self.brand = \"Mama\"\n",
    "        \n",
    "#Car object will not  be able  to call or read any parameters of any of the Class directly. \n",
    "#instead through object of each class it will fetch the values of parameters    \n",
    "    def __str__(self):\n",
    "#        based on name given above we can use below return statement accordingly\n",
    "#         return self.Name + \"Car has \\n\" + str(self.tyres) +\"\\n\" + str(self.engine) + \"\\n\" + str(self.body)\n",
    "        return self.w + \"Car has \\n\" + str(self.x) +\"\\n\" + str(self.y) + \"\\n\" + str(self.z)\n",
    "                "
   ]
  },
  {
   "cell_type": "code",
   "execution_count": 240,
   "id": "1f6dd4a7",
   "metadata": {},
   "outputs": [],
   "source": [
    "t1 = Tyres(\"GoodYear\",\"Medium\", 30)"
   ]
  },
  {
   "cell_type": "code",
   "execution_count": 234,
   "id": "ace528d7",
   "metadata": {},
   "outputs": [
    {
     "name": "stdout",
     "output_type": "stream",
     "text": [
      "Tyres :\n",
      " \tBrand:GoodYear\n",
      " \tTyre size: Medium\n",
      " \tTyre pressure: 30\n"
     ]
    }
   ],
   "source": [
    "print(t1)"
   ]
  },
  {
   "cell_type": "code",
   "execution_count": 210,
   "id": "b21d69b5",
   "metadata": {},
   "outputs": [],
   "source": [
    "e1 = Engine(\"honda\",10,10)"
   ]
  },
  {
   "cell_type": "code",
   "execution_count": 211,
   "id": "94ca513f",
   "metadata": {},
   "outputs": [
    {
     "name": "stdout",
     "output_type": "stream",
     "text": [
      "Engine :\n",
      " \tBrand:honda\n",
      " \tPower: 10\n",
      " \tCapacity: 10\n"
     ]
    }
   ],
   "source": [
    "print(e1)"
   ]
  },
  {
   "cell_type": "code",
   "execution_count": 235,
   "id": "b23de2f8",
   "metadata": {},
   "outputs": [],
   "source": [
    "b1 = Body(\"Metalic\", \"High\")"
   ]
  },
  {
   "cell_type": "code",
   "execution_count": 213,
   "id": "e75822ad",
   "metadata": {},
   "outputs": [
    {
     "name": "stdout",
     "output_type": "stream",
     "text": [
      "Body :\n",
      " \tBody:Metalic\n",
      " \tSize: High\n"
     ]
    }
   ],
   "source": [
    "print(b1)"
   ]
  },
  {
   "cell_type": "code",
   "execution_count": 244,
   "id": "01599d6c",
   "metadata": {},
   "outputs": [],
   "source": [
    "car1 = car(\"Ford\",t1,e1,b1)"
   ]
  },
  {
   "cell_type": "code",
   "execution_count": 245,
   "id": "e4b7d5e9",
   "metadata": {},
   "outputs": [
    {
     "name": "stdout",
     "output_type": "stream",
     "text": [
      "FordCar has \n",
      "Tyres :\n",
      " \tBrand:GoodYear\n",
      " \tTyre size: Medium\n",
      " \tTyre pressure: 30\n",
      "Engine :\n",
      " \tBrand:honda\n",
      " \tPower: 10\n",
      " \tCapacity: 10\n",
      "Body :\n",
      " \tBody:Metalic\n",
      " \tSize: High\n"
     ]
    }
   ],
   "source": [
    "print(car1)"
   ]
  },
  {
   "cell_type": "code",
   "execution_count": null,
   "id": "81553e89",
   "metadata": {},
   "outputs": [],
   "source": []
  }
 ],
 "metadata": {
  "kernelspec": {
   "display_name": "Python 3 (ipykernel)",
   "language": "python",
   "name": "python3"
  },
  "language_info": {
   "codemirror_mode": {
    "name": "ipython",
    "version": 3
   },
   "file_extension": ".py",
   "mimetype": "text/x-python",
   "name": "python",
   "nbconvert_exporter": "python",
   "pygments_lexer": "ipython3",
   "version": "3.9.7"
  }
 },
 "nbformat": 4,
 "nbformat_minor": 5
}
