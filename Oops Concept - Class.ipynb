{
 "cells": [
  {
   "cell_type": "code",
   "execution_count": 72,
   "id": "badd974c",
   "metadata": {},
   "outputs": [],
   "source": [
    "class car():\n",
    "    def __init__(self,mfg,body,mileage,seat): #Inbuilt function of any class which starts and end with 2 underscore\n",
    "        if mileage == ' ':\n",
    "            self.manufacture = 2021\n",
    "        else:\n",
    "            self.manufacture = mfg\n",
    "        self.body = \"steel\"\n",
    "        self.mileage = 15\n",
    "        self.seat = 5   \n",
    "        \n",
    "    def __str__(self): #This is a inbuilt function where we can write the purpose of the function\n",
    "        return \"This Class is of Car\"\n",
    "    \n",
    "    def age_of_car(self,current_year):\n",
    "        return current_year - self.manufacture"
   ]
  },
  {
   "cell_type": "code",
   "execution_count": 73,
   "id": "0c4c0f03",
   "metadata": {},
   "outputs": [],
   "source": [
    "nano = car(2018,'' ,'' ,'')"
   ]
  },
  {
   "cell_type": "code",
   "execution_count": 19,
   "id": "5217ad18",
   "metadata": {},
   "outputs": [
    {
     "name": "stdout",
     "output_type": "stream",
     "text": [
      "nano.mileage :15\n"
     ]
    }
   ],
   "source": [
    "print(f\"nano.mileage :{nano.mileage}\")"
   ]
  },
  {
   "cell_type": "code",
   "execution_count": 39,
   "id": "af6e90a7",
   "metadata": {},
   "outputs": [
    {
     "data": {
      "text/plain": [
       "2018"
      ]
     },
     "execution_count": 39,
     "metadata": {},
     "output_type": "execute_result"
    }
   ],
   "source": [
    "nano.manufacture"
   ]
  },
  {
   "cell_type": "code",
   "execution_count": 20,
   "id": "8fa0e615",
   "metadata": {},
   "outputs": [
    {
     "name": "stdout",
     "output_type": "stream",
     "text": [
      "car.seat: 5\n"
     ]
    }
   ],
   "source": [
    "print(f\"car.seat: {nano.seat}\")"
   ]
  },
  {
   "cell_type": "code",
   "execution_count": 69,
   "id": "0d55e5a7",
   "metadata": {},
   "outputs": [],
   "source": [
    "hyundai = car(2020, '','','')\n",
    "hyundai.mileage = 21"
   ]
  },
  {
   "cell_type": "code",
   "execution_count": 41,
   "id": "28a039d6",
   "metadata": {},
   "outputs": [
    {
     "name": "stdout",
     "output_type": "stream",
     "text": [
      "hyundai.mileage: 21\n"
     ]
    }
   ],
   "source": [
    "print(f\"hyundai.mileage: {hyundai.mileage}\")"
   ]
  },
  {
   "cell_type": "code",
   "execution_count": 66,
   "id": "4765c750",
   "metadata": {},
   "outputs": [
    {
     "data": {
      "text/plain": [
       "2"
      ]
     },
     "execution_count": 66,
     "metadata": {},
     "output_type": "execute_result"
    }
   ],
   "source": [
    "hyundai.age_of_car(2022)"
   ]
  },
  {
   "cell_type": "code",
   "execution_count": 70,
   "id": "537e1d8c",
   "metadata": {},
   "outputs": [
    {
     "name": "stdout",
     "output_type": "stream",
     "text": [
      "This Class is of Car\n"
     ]
    }
   ],
   "source": [
    "print(hyundai)"
   ]
  },
  {
   "cell_type": "code",
   "execution_count": 140,
   "id": "87e61e68",
   "metadata": {},
   "outputs": [],
   "source": [
    "class student():\n",
    "    def __init__(self,name,year_of_birth,sex,place,*hobbies):\n",
    "        self.hobbies_list =[]\n",
    "        self.name = name\n",
    "        try:\n",
    "            self.year_of_birth = year_of_birth\n",
    "        except Excection as e:\n",
    "            print(\"Incorrect year of Birth\",e)\n",
    "    \n",
    "        self.sex = sex\n",
    "        self.place = place\n",
    "        for i in hobbies:\n",
    "            self.hobbies_list.append(i)\n",
    "        \n",
    "    def __str__(self):\n",
    "        return \"This class is used to define student class\"\n",
    "\n",
    "    def age(self,current_year):\n",
    "        try:\n",
    "            return current_year - self.year_of_birth\n",
    "        except Exception as e:\n",
    "            print(\"Entered year of Birth is not numeric\",e)\n",
    "    \n",
    "    def print_name(self):\n",
    "        if type(self.name)== list:\n",
    "            for i in range(len(self.name)):\n",
    "                print(self.name[i])\n",
    "        else:\n",
    "             return self.name\n",
    "    def hobbies_print(self):\n",
    "        print(self.hobbies_list)"
   ]
  },
  {
   "cell_type": "code",
   "execution_count": 141,
   "id": "c442ef6f",
   "metadata": {},
   "outputs": [],
   "source": [
    "stud1=student(\"Ravi\",\"abcd\",\"Male\",\"Noida\",[\"TV\",\"Cricket\",\"Music\"])\n",
    "stud2=student(\"Astha\",1986,\"FeMale\",\"Bengaluru\",[\"Singing\",\"Dancing\"])\n",
    "stud3=student(\"Illisha\",2015,\"FeMale\",\"Pune\",[\"Dancing\"])\n",
    "stud4=student(\"Lika\",2019,\"FeMale\",\"Patna\",[\"Singing\"])\n",
    "stud5=student([\"Jaanu\",\"Chumpu\",\"Dolu\",\"Liku\"], [1983,1988,2015,2019],[\"Male\",\"Female\",\"Female\",\"Female\"],[\"Canada\",\"Patna\",\"Paris\",\"USA\"],\"\")"
   ]
  },
  {
   "cell_type": "code",
   "execution_count": 89,
   "id": "8c087178",
   "metadata": {},
   "outputs": [
    {
     "data": {
      "text/plain": [
       "36"
      ]
     },
     "execution_count": 89,
     "metadata": {},
     "output_type": "execute_result"
    }
   ],
   "source": [
    "stud2.age(2022)"
   ]
  },
  {
   "cell_type": "code",
   "execution_count": 105,
   "id": "b7ffce74",
   "metadata": {},
   "outputs": [
    {
     "data": {
      "text/plain": [
       "7"
      ]
     },
     "execution_count": 105,
     "metadata": {},
     "output_type": "execute_result"
    }
   ],
   "source": [
    "stud3.age(2022)"
   ]
  },
  {
   "cell_type": "code",
   "execution_count": 96,
   "id": "15aa78ec",
   "metadata": {},
   "outputs": [
    {
     "name": "stdout",
     "output_type": "stream",
     "text": [
      "This class is used to define student class\n"
     ]
    }
   ],
   "source": [
    "print(stud4)"
   ]
  },
  {
   "cell_type": "code",
   "execution_count": 104,
   "id": "4c22ec28",
   "metadata": {},
   "outputs": [
    {
     "name": "stdout",
     "output_type": "stream",
     "text": [
      "Entered year of Birth is not numeric unsupported operand type(s) for -: 'int' and 'str'\n"
     ]
    }
   ],
   "source": [
    "stud1.age(2022)"
   ]
  },
  {
   "cell_type": "code",
   "execution_count": 107,
   "id": "9dfd8360",
   "metadata": {},
   "outputs": [
    {
     "data": {
      "text/plain": [
       "3"
      ]
     },
     "execution_count": 107,
     "metadata": {},
     "output_type": "execute_result"
    }
   ],
   "source": [
    "stud4.age(2022)"
   ]
  },
  {
   "cell_type": "code",
   "execution_count": 115,
   "id": "7b659fe1",
   "metadata": {},
   "outputs": [
    {
     "name": "stdout",
     "output_type": "stream",
     "text": [
      "This class is used to define student class\n"
     ]
    }
   ],
   "source": [
    "print(stud5)"
   ]
  },
  {
   "cell_type": "code",
   "execution_count": 116,
   "id": "d52464ee",
   "metadata": {},
   "outputs": [],
   "source": [
    "stud1.name= \"RaviRanjan\""
   ]
  },
  {
   "cell_type": "code",
   "execution_count": 118,
   "id": "fe1cb4c9",
   "metadata": {},
   "outputs": [
    {
     "data": {
      "text/plain": [
       "'RaviRanjan'"
      ]
     },
     "execution_count": 118,
     "metadata": {},
     "output_type": "execute_result"
    }
   ],
   "source": [
    "stud1.name"
   ]
  },
  {
   "cell_type": "code",
   "execution_count": 119,
   "id": "76c4d344",
   "metadata": {},
   "outputs": [
    {
     "data": {
      "text/plain": [
       "['Jaanu', 'Chumpu', 'Dolu', 'Liku']"
      ]
     },
     "execution_count": 119,
     "metadata": {},
     "output_type": "execute_result"
    }
   ],
   "source": [
    "stud5.name"
   ]
  },
  {
   "cell_type": "code",
   "execution_count": 128,
   "id": "c5e93a4c",
   "metadata": {},
   "outputs": [
    {
     "data": {
      "text/plain": [
       "'Astha'"
      ]
     },
     "execution_count": 128,
     "metadata": {},
     "output_type": "execute_result"
    }
   ],
   "source": [
    "stud2.print_name()"
   ]
  },
  {
   "cell_type": "code",
   "execution_count": 127,
   "id": "dfab73e9",
   "metadata": {},
   "outputs": [
    {
     "name": "stdout",
     "output_type": "stream",
     "text": [
      "Jaanu\n",
      "Chumpu\n",
      "Dolu\n",
      "Liku\n"
     ]
    }
   ],
   "source": [
    "stud5.print_name()"
   ]
  },
  {
   "cell_type": "code",
   "execution_count": 142,
   "id": "2d95405c",
   "metadata": {},
   "outputs": [
    {
     "name": "stdout",
     "output_type": "stream",
     "text": [
      "[['TV', 'Cricket', 'Music']]\n"
     ]
    }
   ],
   "source": [
    "stud1.hobbies_print()"
   ]
  },
  {
   "cell_type": "code",
   "execution_count": 259,
   "id": "308dabc3",
   "metadata": {},
   "outputs": [],
   "source": [
    "#implement logger using create own funtion \n",
    "#implement try catch\n",
    "import logging as log\n",
    "\n",
    "class data():\n",
    "    def __init__(self,filename,filetype,filedata,filesize):\n",
    "        self.file_name = filename\n",
    "        self.file_type = filetype\n",
    "        self.file_data = filedata\n",
    "        self.file_size = filesize\n",
    "        self.filename = self.file_name + self.file_type\n",
    "        log.basicConfig(filename = 'flog.log',level=log.INFO, format = \"%(asctime)s %(filelevel)s %(message)s\")\n",
    "        self.message= ' '\n",
    "        self.message_type = ' '\n",
    "    \n",
    "    #create logger function  \n",
    "    def file_log(self,message,messagetype):\n",
    "        log.critical(message)   \n",
    "    \n",
    "    #create file if not existing and write some data    \n",
    "    def file_open(self):\n",
    "        try:\n",
    "            self.f = open(self.filename,\"w\")\n",
    "        except Exception as e:\n",
    "            print(f\"{self.filename} does not exist\",e)\n",
    "            self.message = self.filename + \"does not exist during open\"\n",
    "            self.message_type = \"critical\"\n",
    "            file_log(self.message,self.message_type)\n",
    "            self.f = open(self.filename,\"w+\")\n",
    "        finally:    \n",
    "            self.f.write(f\"First Statement written in file{self.filename}\")\n",
    "    \n",
    "    def file_read(self):\n",
    "        try:\n",
    "            self.filename.read()\n",
    "        except Exception as e:\n",
    "            print(f\"{self.filename}File was not open during Read operation, need to open it\")\n",
    "            self.message = self.filename + \"does not exist during read operation\"\n",
    "            self.message_type = \"critical\"\n",
    "            self.file_log(self.message,self.message_type)\n",
    "            self.f = open(self.filename,\"r\")\n",
    "            print(self.f.read())\n",
    "        finally:\n",
    "            self.f.close()\n",
    "       \n",
    "   #append new data in it and show    \n",
    "    def file_append(self):\n",
    "        try:\n",
    "            self.f = open(self.filename,\"a\")\n",
    "            self.f.write(f\"\\nFirst apend written into {self.filename}\")\n",
    "        except Exception as e:\n",
    "            print(f\"{self.filename} File does not exist, need to create and write\")\n",
    "            self.message = self.filename + \"does not exist during append operation\"\n",
    "            self.message_type = \"critical\"\n",
    "            file_log(self.message,self.message_type)\n",
    "            self.f = open(self.filename,\"w\")\n",
    "            self.f.write(f\"{self.filename}First statement written\")\n",
    "        finally:\n",
    "            self.f.close()\n",
    "            self.f = open(self.filename,\"r\")\n",
    "            print(self.f.read())\n",
    "            self.f.close()\n",
    "\n",
    "\n",
    "        \n",
    "        \n",
    "    \n",
    "            "
   ]
  },
  {
   "cell_type": "code",
   "execution_count": 260,
   "id": "29830b3b",
   "metadata": {},
   "outputs": [],
   "source": [
    "file1 = data(\"f7\",\".txt\",1024,25)"
   ]
  },
  {
   "cell_type": "code",
   "execution_count": 261,
   "id": "769ec558",
   "metadata": {},
   "outputs": [],
   "source": [
    "file1.file_open()"
   ]
  },
  {
   "cell_type": "code",
   "execution_count": 262,
   "id": "1f1f36c5",
   "metadata": {},
   "outputs": [
    {
     "name": "stdout",
     "output_type": "stream",
     "text": [
      "f7.txtFile was not open during Read operation, need to open it\n",
      "First Statement written in filef7.txt\n"
     ]
    },
    {
     "name": "stderr",
     "output_type": "stream",
     "text": [
      "--- Logging error ---\n",
      "Traceback (most recent call last):\n",
      "  File \"C:\\Users\\Ravi0dubey\\AppData\\Local\\Temp/ipykernel_45628/1090817064.py\", line 35, in file_read\n",
      "    self.filename.read()\n",
      "AttributeError: 'str' object has no attribute 'read'\n",
      "\n",
      "During handling of the above exception, another exception occurred:\n",
      "\n",
      "Traceback (most recent call last):\n",
      "  File \"C:\\Users\\Ravi0dubey\\anaconda3\\lib\\logging\\__init__.py\", line 434, in format\n",
      "    return self._format(record)\n",
      "  File \"C:\\Users\\Ravi0dubey\\anaconda3\\lib\\logging\\__init__.py\", line 430, in _format\n",
      "    return self._fmt % record.__dict__\n",
      "KeyError: 'filelevel'\n",
      "\n",
      "During handling of the above exception, another exception occurred:\n",
      "\n",
      "Traceback (most recent call last):\n",
      "  File \"C:\\Users\\Ravi0dubey\\anaconda3\\lib\\logging\\__init__.py\", line 1083, in emit\n",
      "    msg = self.format(record)\n",
      "  File \"C:\\Users\\Ravi0dubey\\anaconda3\\lib\\logging\\__init__.py\", line 927, in format\n",
      "    return fmt.format(record)\n",
      "  File \"C:\\Users\\Ravi0dubey\\anaconda3\\lib\\logging\\__init__.py\", line 666, in format\n",
      "    s = self.formatMessage(record)\n",
      "  File \"C:\\Users\\Ravi0dubey\\anaconda3\\lib\\logging\\__init__.py\", line 635, in formatMessage\n",
      "    return self._style.format(record)\n",
      "  File \"C:\\Users\\Ravi0dubey\\anaconda3\\lib\\logging\\__init__.py\", line 436, in format\n",
      "    raise ValueError('Formatting field not found in record: %s' % e)\n",
      "ValueError: Formatting field not found in record: 'filelevel'\n",
      "Call stack:\n",
      "  File \"C:\\Users\\Ravi0dubey\\anaconda3\\lib\\runpy.py\", line 197, in _run_module_as_main\n",
      "    return _run_code(code, main_globals, None,\n",
      "  File \"C:\\Users\\Ravi0dubey\\anaconda3\\lib\\runpy.py\", line 87, in _run_code\n",
      "    exec(code, run_globals)\n",
      "  File \"C:\\Users\\Ravi0dubey\\anaconda3\\lib\\site-packages\\ipykernel_launcher.py\", line 16, in <module>\n",
      "    app.launch_new_instance()\n",
      "  File \"C:\\Users\\Ravi0dubey\\anaconda3\\lib\\site-packages\\traitlets\\config\\application.py\", line 846, in launch_instance\n",
      "    app.start()\n",
      "  File \"C:\\Users\\Ravi0dubey\\anaconda3\\lib\\site-packages\\ipykernel\\kernelapp.py\", line 677, in start\n",
      "    self.io_loop.start()\n",
      "  File \"C:\\Users\\Ravi0dubey\\anaconda3\\lib\\site-packages\\tornado\\platform\\asyncio.py\", line 199, in start\n",
      "    self.asyncio_loop.run_forever()\n",
      "  File \"C:\\Users\\Ravi0dubey\\anaconda3\\lib\\asyncio\\base_events.py\", line 596, in run_forever\n",
      "    self._run_once()\n",
      "  File \"C:\\Users\\Ravi0dubey\\anaconda3\\lib\\asyncio\\base_events.py\", line 1890, in _run_once\n",
      "    handle._run()\n",
      "  File \"C:\\Users\\Ravi0dubey\\anaconda3\\lib\\asyncio\\events.py\", line 80, in _run\n",
      "    self._context.run(self._callback, *self._args)\n",
      "  File \"C:\\Users\\Ravi0dubey\\anaconda3\\lib\\site-packages\\ipykernel\\kernelbase.py\", line 457, in dispatch_queue\n",
      "    await self.process_one()\n",
      "  File \"C:\\Users\\Ravi0dubey\\anaconda3\\lib\\site-packages\\ipykernel\\kernelbase.py\", line 446, in process_one\n",
      "    await dispatch(*args)\n",
      "  File \"C:\\Users\\Ravi0dubey\\anaconda3\\lib\\site-packages\\ipykernel\\kernelbase.py\", line 353, in dispatch_shell\n",
      "    await result\n",
      "  File \"C:\\Users\\Ravi0dubey\\anaconda3\\lib\\site-packages\\ipykernel\\kernelbase.py\", line 648, in execute_request\n",
      "    reply_content = await reply_content\n",
      "  File \"C:\\Users\\Ravi0dubey\\anaconda3\\lib\\site-packages\\ipykernel\\ipkernel.py\", line 353, in do_execute\n",
      "    res = shell.run_cell(code, store_history=store_history, silent=silent)\n",
      "  File \"C:\\Users\\Ravi0dubey\\anaconda3\\lib\\site-packages\\ipykernel\\zmqshell.py\", line 533, in run_cell\n",
      "    return super(ZMQInteractiveShell, self).run_cell(*args, **kwargs)\n",
      "  File \"C:\\Users\\Ravi0dubey\\anaconda3\\lib\\site-packages\\IPython\\core\\interactiveshell.py\", line 2901, in run_cell\n",
      "    result = self._run_cell(\n",
      "  File \"C:\\Users\\Ravi0dubey\\anaconda3\\lib\\site-packages\\IPython\\core\\interactiveshell.py\", line 2947, in _run_cell\n",
      "    return runner(coro)\n",
      "  File \"C:\\Users\\Ravi0dubey\\anaconda3\\lib\\site-packages\\IPython\\core\\async_helpers.py\", line 68, in _pseudo_sync_runner\n",
      "    coro.send(None)\n",
      "  File \"C:\\Users\\Ravi0dubey\\anaconda3\\lib\\site-packages\\IPython\\core\\interactiveshell.py\", line 3172, in run_cell_async\n",
      "    has_raised = await self.run_ast_nodes(code_ast.body, cell_name,\n",
      "  File \"C:\\Users\\Ravi0dubey\\anaconda3\\lib\\site-packages\\IPython\\core\\interactiveshell.py\", line 3364, in run_ast_nodes\n",
      "    if (await self.run_code(code, result,  async_=asy)):\n",
      "  File \"C:\\Users\\Ravi0dubey\\anaconda3\\lib\\site-packages\\IPython\\core\\interactiveshell.py\", line 3444, in run_code\n",
      "    exec(code_obj, self.user_global_ns, self.user_ns)\n",
      "  File \"C:\\Users\\Ravi0dubey\\AppData\\Local\\Temp/ipykernel_45628/51146010.py\", line 1, in <module>\n",
      "    file1.file_read()\n",
      "  File \"C:\\Users\\Ravi0dubey\\AppData\\Local\\Temp/ipykernel_45628/1090817064.py\", line 40, in file_read\n",
      "    self.file_log(self.message,self.message_type)\n",
      "  File \"C:\\Users\\Ravi0dubey\\AppData\\Local\\Temp/ipykernel_45628/1090817064.py\", line 18, in file_log\n",
      "    log.critical(message)\n",
      "Message: 'f7.txtdoes not exist during read operation'\n",
      "Arguments: ()\n"
     ]
    }
   ],
   "source": [
    "file1.file_read()"
   ]
  },
  {
   "cell_type": "code",
   "execution_count": 263,
   "id": "214e76a5",
   "metadata": {},
   "outputs": [
    {
     "name": "stdout",
     "output_type": "stream",
     "text": [
      "First Statement written in filef7.txt\n",
      "First apend written into f7.txt\n"
     ]
    }
   ],
   "source": [
    "file1.file_append()"
   ]
  },
  {
   "cell_type": "code",
   "execution_count": null,
   "id": "d574e9f6",
   "metadata": {},
   "outputs": [],
   "source": []
  }
 ],
 "metadata": {
  "kernelspec": {
   "display_name": "Python 3 (ipykernel)",
   "language": "python",
   "name": "python3"
  },
  "language_info": {
   "codemirror_mode": {
    "name": "ipython",
    "version": 3
   },
   "file_extension": ".py",
   "mimetype": "text/x-python",
   "name": "python",
   "nbconvert_exporter": "python",
   "pygments_lexer": "ipython3",
   "version": "3.9.7"
  }
 },
 "nbformat": 4,
 "nbformat_minor": 5
}
