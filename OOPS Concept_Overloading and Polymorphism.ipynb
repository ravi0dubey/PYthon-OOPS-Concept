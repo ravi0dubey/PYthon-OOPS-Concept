{
 "cells": [
  {
   "cell_type": "markdown",
   "id": "8ef17e5e",
   "metadata": {},
   "source": [
    "# Overloading"
   ]
  },
  {
   "cell_type": "code",
   "execution_count": 203,
   "id": "ba1ca4bb",
   "metadata": {},
   "outputs": [],
   "source": [
    "#__mul is  default function of python\n",
    "\n",
    "\n",
    "class multiplynumeric():\n",
    "    def __init__(self,a):\n",
    "        self.a = a\n",
    "    \n",
    "    def __mul__(self, other):\n",
    "        return self.a - other.a"
   ]
  },
  {
   "cell_type": "code",
   "execution_count": 208,
   "id": "dfcc5c13",
   "metadata": {},
   "outputs": [],
   "source": [
    "mul1 = multiplynumeric(9)"
   ]
  },
  {
   "cell_type": "code",
   "execution_count": 196,
   "id": "b36ff777",
   "metadata": {},
   "outputs": [
    {
     "data": {
      "text/plain": [
       "9"
      ]
     },
     "execution_count": 196,
     "metadata": {},
     "output_type": "execute_result"
    }
   ],
   "source": [
    "mul1.a"
   ]
  },
  {
   "cell_type": "code",
   "execution_count": 205,
   "id": "4fe8494b",
   "metadata": {},
   "outputs": [],
   "source": [
    "mul2 = multiplynumeric(5)"
   ]
  },
  {
   "cell_type": "code",
   "execution_count": 200,
   "id": "8ba67ba2",
   "metadata": {},
   "outputs": [
    {
     "data": {
      "text/plain": [
       "5"
      ]
     },
     "execution_count": 200,
     "metadata": {},
     "output_type": "execute_result"
    }
   ],
   "source": [
    "mul2.a"
   ]
  },
  {
   "cell_type": "code",
   "execution_count": 206,
   "id": "2fee5efc",
   "metadata": {},
   "outputs": [
    {
     "data": {
      "text/plain": [
       "45"
      ]
     },
     "execution_count": 206,
     "metadata": {},
     "output_type": "execute_result"
    }
   ],
   "source": [
    "mul1.a * mul2.a"
   ]
  },
  {
   "cell_type": "code",
   "execution_count": 244,
   "id": "9db7d49d",
   "metadata": {},
   "outputs": [
    {
     "data": {
      "text/plain": [
       "4"
      ]
     },
     "execution_count": 244,
     "metadata": {},
     "output_type": "execute_result"
    }
   ],
   "source": [
    "mul1 * mul2 #multiplication done directly with object"
   ]
  },
  {
   "cell_type": "markdown",
   "id": "8b46362f",
   "metadata": {},
   "source": [
    "# Operator Overloading"
   ]
  },
  {
   "cell_type": "code",
   "execution_count": 252,
   "id": "db1adec5",
   "metadata": {},
   "outputs": [],
   "source": [
    "#although we have __add__ function within the class we have changed the operation within the class \n",
    "#from addition  to division\n",
    "class addnumeric():\n",
    "    def __init__(self,a):\n",
    "        self.a = a\n",
    "    \n",
    "    def __add__(self, other):\n",
    "        return self.a / other.a"
   ]
  },
  {
   "cell_type": "code",
   "execution_count": 253,
   "id": "43ffbf65",
   "metadata": {},
   "outputs": [],
   "source": [
    "add1 = addnumeric(4)"
   ]
  },
  {
   "cell_type": "code",
   "execution_count": 254,
   "id": "4231baf4",
   "metadata": {},
   "outputs": [],
   "source": [
    "add2 = addnumeric(1.5)"
   ]
  },
  {
   "cell_type": "code",
   "execution_count": 255,
   "id": "c181a311",
   "metadata": {},
   "outputs": [
    {
     "data": {
      "text/plain": [
       "2.6666666666666665"
      ]
     },
     "execution_count": 255,
     "metadata": {},
     "output_type": "execute_result"
    }
   ],
   "source": [
    "add1 + add2  #divided value comes instead of addition"
   ]
  },
  {
   "cell_type": "code",
   "execution_count": 245,
   "id": "aa4cc59d",
   "metadata": {},
   "outputs": [],
   "source": [
    "#although we have __sub__ function within the class we have changed the operation within the class \n",
    "#from substraction to multiplication\n",
    "class subnumeric():\n",
    "    def __init__(self,a):\n",
    "        self.a = a\n",
    "    \n",
    "    def __sub__(self, other):\n",
    "        return self.a + other.a"
   ]
  },
  {
   "cell_type": "code",
   "execution_count": 239,
   "id": "dd8a8016",
   "metadata": {},
   "outputs": [],
   "source": [
    "a1 = subnumeric(5)"
   ]
  },
  {
   "cell_type": "code",
   "execution_count": 240,
   "id": "22b30b78",
   "metadata": {},
   "outputs": [],
   "source": [
    "a2 = subnumeric(2)"
   ]
  },
  {
   "cell_type": "code",
   "execution_count": 243,
   "id": "945d9b78",
   "metadata": {},
   "outputs": [
    {
     "data": {
      "text/plain": [
       "7"
      ]
     },
     "execution_count": 243,
     "metadata": {},
     "output_type": "execute_result"
    }
   ],
   "source": [
    "a1 - a2 \n",
    "#Although i am giving a1 - a2 but subnumeric has default function of  adding two objects \n",
    "#hence summation of two variable is returned"
   ]
  },
  {
   "cell_type": "markdown",
   "id": "beff091f",
   "metadata": {},
   "source": [
    "# Polymorphism\n",
    "\n",
    "Same function will work or behave differently according to parameter passed\n"
   ]
  },
  {
   "cell_type": "code",
   "execution_count": 262,
   "id": "4c9734cf",
   "metadata": {},
   "outputs": [],
   "source": [
    "#Same function with + operator is behaving like numeric addition for numeric value\n",
    "# string concatenation for string  values\n",
    "# List concatenation for List variables\n",
    "\n",
    "def add1(a,b):\n",
    "    return a + b"
   ]
  },
  {
   "cell_type": "code",
   "execution_count": 260,
   "id": "e7f009e4",
   "metadata": {},
   "outputs": [
    {
     "data": {
      "text/plain": [
       "5"
      ]
     },
     "execution_count": 260,
     "metadata": {},
     "output_type": "execute_result"
    }
   ],
   "source": [
    "# Add function with + operator is behaving like numeric addition for numeric value\n",
    "add1(2,3)"
   ]
  },
  {
   "cell_type": "code",
   "execution_count": 258,
   "id": "cdf69406",
   "metadata": {},
   "outputs": [
    {
     "data": {
      "text/plain": [
       "'RaviDubey'"
      ]
     },
     "execution_count": 258,
     "metadata": {},
     "output_type": "execute_result"
    }
   ],
   "source": [
    "#add1 function with operator + is doing  string concatenation for string  values\n",
    "add1(\"Ravi\",\"Dubey\")"
   ]
  },
  {
   "cell_type": "code",
   "execution_count": 261,
   "id": "f024e716",
   "metadata": {},
   "outputs": [
    {
     "data": {
      "text/plain": [
       "[1, 2, 3, 4, 5, 6, 7]"
      ]
     },
     "execution_count": 261,
     "metadata": {},
     "output_type": "execute_result"
    }
   ],
   "source": [
    "#add1 function with operator + is doing List concatenation for list values\n",
    "add1([1,2,3],[4,5,6,7])"
   ]
  },
  {
   "cell_type": "code",
   "execution_count": 268,
   "id": "ee999798",
   "metadata": {},
   "outputs": [],
   "source": [
    "#Example 2 of Polymorphism\n",
    "class a:\n",
    "    def msg(self):\n",
    "        print(\"this is a msg from class A\")\n",
    "\n",
    "class b:\n",
    "    def msg(self):\n",
    "        print(\"this is a msg from class b\")\n"
   ]
  },
  {
   "cell_type": "code",
   "execution_count": 264,
   "id": "06031f5b",
   "metadata": {},
   "outputs": [],
   "source": [
    "def test(mm):\n",
    "    mm.msg()"
   ]
  },
  {
   "cell_type": "code",
   "execution_count": 265,
   "id": "d71906c9",
   "metadata": {},
   "outputs": [],
   "source": [
    "a1 = a()\n",
    "b1 =b()"
   ]
  },
  {
   "cell_type": "code",
   "execution_count": 266,
   "id": "200a9c50",
   "metadata": {},
   "outputs": [
    {
     "name": "stdout",
     "output_type": "stream",
     "text": [
      "this is a msg from class A\n"
     ]
    }
   ],
   "source": [
    "#since object a1 is passed as parameter to standalone function test. within the function a1.msg() gets called\n",
    "test(a1)\n"
   ]
  },
  {
   "cell_type": "code",
   "execution_count": 269,
   "id": "0e8da7c9",
   "metadata": {},
   "outputs": [
    {
     "name": "stdout",
     "output_type": "stream",
     "text": [
      "this is a msg from class b\n"
     ]
    }
   ],
   "source": [
    "#since object a1 is passed as parameter to standalone function test. within the function a1.msg() gets called\n",
    "test(b1)"
   ]
  },
  {
   "cell_type": "code",
   "execution_count": null,
   "id": "6d676805",
   "metadata": {},
   "outputs": [],
   "source": []
  }
 ],
 "metadata": {
  "kernelspec": {
   "display_name": "Python 3 (ipykernel)",
   "language": "python",
   "name": "python3"
  },
  "language_info": {
   "codemirror_mode": {
    "name": "ipython",
    "version": 3
   },
   "file_extension": ".py",
   "mimetype": "text/x-python",
   "name": "python",
   "nbconvert_exporter": "python",
   "pygments_lexer": "ipython3",
   "version": "3.9.7"
  }
 },
 "nbformat": 4,
 "nbformat_minor": 5
}
