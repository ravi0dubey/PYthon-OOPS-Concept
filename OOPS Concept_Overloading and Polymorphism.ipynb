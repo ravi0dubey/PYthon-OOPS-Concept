{
 "cells": [
  {
   "cell_type": "markdown",
   "id": "a5e0ca57",
   "metadata": {},
   "source": [
    "# Overloading"
   ]
  },
  {
   "cell_type": "code",
   "execution_count": 203,
   "id": "4f1eed85",
   "metadata": {},
   "outputs": [],
   "source": [
    "#__mul is  default function of python\n",
    "\n",
    "\n",
    "class multiplynumeric():\n",
    "    def __init__(self,a):\n",
    "        self.a = a\n",
    "    \n",
    "    def __mul__(self, other):\n",
    "        return self.a - other.a"
   ]
  },
  {
   "cell_type": "code",
   "execution_count": 208,
   "id": "580c01b9",
   "metadata": {},
   "outputs": [],
   "source": [
    "mul1 = multiplynumeric(9)"
   ]
  },
  {
   "cell_type": "code",
   "execution_count": 196,
   "id": "15df86cb",
   "metadata": {},
   "outputs": [
    {
     "data": {
      "text/plain": [
       "9"
      ]
     },
     "execution_count": 196,
     "metadata": {},
     "output_type": "execute_result"
    }
   ],
   "source": [
    "mul1.a"
   ]
  },
  {
   "cell_type": "code",
   "execution_count": 205,
   "id": "7321bf51",
   "metadata": {},
   "outputs": [],
   "source": [
    "mul2 = multiplynumeric(5)"
   ]
  },
  {
   "cell_type": "code",
   "execution_count": 200,
   "id": "6ab6a493",
   "metadata": {},
   "outputs": [
    {
     "data": {
      "text/plain": [
       "5"
      ]
     },
     "execution_count": 200,
     "metadata": {},
     "output_type": "execute_result"
    }
   ],
   "source": [
    "mul2.a"
   ]
  },
  {
   "cell_type": "code",
   "execution_count": 206,
   "id": "07eb2c34",
   "metadata": {},
   "outputs": [
    {
     "data": {
      "text/plain": [
       "45"
      ]
     },
     "execution_count": 206,
     "metadata": {},
     "output_type": "execute_result"
    }
   ],
   "source": [
    "mul1.a * mul2.a"
   ]
  },
  {
   "cell_type": "code",
   "execution_count": 244,
   "id": "bd2d6790",
   "metadata": {},
   "outputs": [
    {
     "data": {
      "text/plain": [
       "4"
      ]
     },
     "execution_count": 244,
     "metadata": {},
     "output_type": "execute_result"
    }
   ],
   "source": [
    "mul1 * mul2 #multiplication done directly with object"
   ]
  },
  {
   "cell_type": "markdown",
   "id": "61ec9dd2",
   "metadata": {},
   "source": [
    "# Operator Overloading"
   ]
  },
  {
   "cell_type": "code",
   "execution_count": 252,
   "id": "eab2ffa8",
   "metadata": {},
   "outputs": [],
   "source": [
    "#although we have __add__ function within the class we have changed the operation within the class \n",
    "#from addition  to division\n",
    "class addnumeric():\n",
    "    def __init__(self,a):\n",
    "        self.a = a\n",
    "    \n",
    "    def __add__(self, other):\n",
    "        return self.a / other.a"
   ]
  },
  {
   "cell_type": "code",
   "execution_count": 253,
   "id": "c5323f32",
   "metadata": {},
   "outputs": [],
   "source": [
    "add1 = addnumeric(4)"
   ]
  },
  {
   "cell_type": "code",
   "execution_count": 254,
   "id": "0b656617",
   "metadata": {},
   "outputs": [],
   "source": [
    "add2 = addnumeric(1.5)"
   ]
  },
  {
   "cell_type": "code",
   "execution_count": 255,
   "id": "1b161b85",
   "metadata": {},
   "outputs": [
    {
     "data": {
      "text/plain": [
       "2.6666666666666665"
      ]
     },
     "execution_count": 255,
     "metadata": {},
     "output_type": "execute_result"
    }
   ],
   "source": [
    "add1 + add2  #divided value comes instead of addition"
   ]
  },
  {
   "cell_type": "code",
   "execution_count": 245,
   "id": "0a0b8109",
   "metadata": {},
   "outputs": [],
   "source": [
    "#although we have __sub__ function within the class we have changed the operation within the class \n",
    "#from substraction to multiplication\n",
    "class subnumeric():\n",
    "    def __init__(self,a):\n",
    "        self.a = a\n",
    "    \n",
    "    def __sub__(self, other):\n",
    "        return self.a + other.a"
   ]
  },
  {
   "cell_type": "code",
   "execution_count": 239,
   "id": "21ed7f79",
   "metadata": {},
   "outputs": [],
   "source": [
    "a1 = subnumeric(5)"
   ]
  },
  {
   "cell_type": "code",
   "execution_count": 240,
   "id": "07f99022",
   "metadata": {},
   "outputs": [],
   "source": [
    "a2 = subnumeric(2)"
   ]
  },
  {
   "cell_type": "code",
   "execution_count": 243,
   "id": "3f63fb5d",
   "metadata": {},
   "outputs": [
    {
     "data": {
      "text/plain": [
       "7"
      ]
     },
     "execution_count": 243,
     "metadata": {},
     "output_type": "execute_result"
    }
   ],
   "source": [
    "a1 - a2 \n",
    "#Although i am giving a1 - a2 but subnumeric has default function of  adding two objects \n",
    "#hence summation of two variable is returned"
   ]
  },
  {
   "cell_type": "markdown",
   "id": "089d05bf",
   "metadata": {},
   "source": [
    "# Polymorphism"
   ]
  },
  {
   "cell_type": "code",
   "execution_count": 262,
   "id": "5717271f",
   "metadata": {},
   "outputs": [],
   "source": [
    "#Same function with + operator is behaving like numeric addition for numeric value\n",
    "# string concatenation for string  values\n",
    "# List concatenation for List variables\n",
    "\n",
    "def add1(a,b):\n",
    "    return a + b"
   ]
  },
  {
   "cell_type": "code",
   "execution_count": 260,
   "id": "cb94d915",
   "metadata": {},
   "outputs": [
    {
     "data": {
      "text/plain": [
       "5"
      ]
     },
     "execution_count": 260,
     "metadata": {},
     "output_type": "execute_result"
    }
   ],
   "source": [
    "# Add function with + operator is behaving like numeric addition for numeric value\n",
    "add1(2,3)"
   ]
  },
  {
   "cell_type": "code",
   "execution_count": 258,
   "id": "91b963e9",
   "metadata": {},
   "outputs": [
    {
     "data": {
      "text/plain": [
       "'RaviDubey'"
      ]
     },
     "execution_count": 258,
     "metadata": {},
     "output_type": "execute_result"
    }
   ],
   "source": [
    "#add1 function with operator + is doing  string concatenation for string  values\n",
    "add1(\"Ravi\",\"Dubey\")"
   ]
  },
  {
   "cell_type": "code",
   "execution_count": 261,
   "id": "4288ee2a",
   "metadata": {},
   "outputs": [
    {
     "data": {
      "text/plain": [
       "[1, 2, 3, 4, 5, 6, 7]"
      ]
     },
     "execution_count": 261,
     "metadata": {},
     "output_type": "execute_result"
    }
   ],
   "source": [
    "#add1 function with operator + is doing List concatenation for list values\n",
    "add1([1,2,3],[4,5,6,7])"
   ]
  },
  {
   "cell_type": "code",
   "execution_count": null,
   "id": "74ad8781",
   "metadata": {},
   "outputs": [],
   "source": []
  }
 ],
 "metadata": {
  "kernelspec": {
   "display_name": "Python 3 (ipykernel)",
   "language": "python",
   "name": "python3"
  },
  "language_info": {
   "codemirror_mode": {
    "name": "ipython",
    "version": 3
   },
   "file_extension": ".py",
   "mimetype": "text/x-python",
   "name": "python",
   "nbconvert_exporter": "python",
   "pygments_lexer": "ipython3",
   "version": "3.9.7"
  }
 },
 "nbformat": 4,
 "nbformat_minor": 5
}
